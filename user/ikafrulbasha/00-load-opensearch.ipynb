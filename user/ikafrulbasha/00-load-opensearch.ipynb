{
 "cells": [
  {
   "cell_type": "code",
   "execution_count": 11,
   "metadata": {},
   "outputs": [],
   "source": [
    "%load_ext autoreload\n",
    "%autoreload 2"
   ]
  },
  {
   "cell_type": "code",
   "execution_count": 4,
   "metadata": {},
   "outputs": [
    {
     "name": "stdout",
     "output_type": "stream",
     "text": [
      "\u001b[01;34m../../../../../../Desktop/DevLongEvalTrainCollection/\u001b[0m\n",
      "├── \u001b[01;34m2023_01\u001b[0m\n",
      "│   ├── \u001b[01;34mEnglish\u001b[0m\n",
      "│   │   ├── \u001b[01;34mDocuments\u001b[0m\n",
      "│   │   ├── \u001b[01;34mQrels\u001b[0m\n",
      "│   │   └── \u001b[01;34mQueries\u001b[0m\n",
      "│   ├── \u001b[01;34mFrench\u001b[0m\n",
      "│   │   ├── \u001b[01;34mDocuments\u001b[0m\n",
      "│   │   ├── \u001b[01;34mQrels\u001b[0m\n",
      "│   │   └── \u001b[01;34mQueries\u001b[0m\n",
      "│   └── \u001b[00mcount_docs.sh\u001b[0m\n",
      "└── \u001b[00m_SUCCESS\u001b[0m\n",
      "\n",
      "10 directories, 2 files\n"
     ]
    }
   ],
   "source": [
    "data_root = \"../../../../../../Desktop/DevLongEvalTrainCollection/\"\n",
    "! tree {data_root} -L 3"
   ]
  },
  {
   "cell_type": "code",
   "execution_count": 1,
   "metadata": {},
   "outputs": [
    {
     "name": "stdout",
     "output_type": "stream",
     "text": [
      "/Users/ikafrulbasha/Library/Python/3.9/lib/python/site-packages/pyspark\n"
     ]
    }
   ],
   "source": [
    "import os\n",
    "os.environ['SPARK_LOCAL_DIR'] = ''\n",
    "print(os.environ.get('SPARK_LOCAL_DIR'))"
   ]
  },
  {
   "cell_type": "code",
   "execution_count": 3,
   "metadata": {},
   "outputs": [
    {
     "name": "stderr",
     "output_type": "stream",
     "text": [
      "25/01/18 12:41:39 WARN SparkSession: Using an existing Spark session; only runtime SQL configurations will take effect.\n"
     ]
    },
    {
     "data": {
      "text/html": [
       "\n",
       "            <div>\n",
       "                <p><b>SparkSession - in-memory</b></p>\n",
       "                \n",
       "        <div>\n",
       "            <p><b>SparkContext</b></p>\n",
       "\n",
       "            <p><a href=\"http://192.168.0.106:4040\">Spark UI</a></p>\n",
       "\n",
       "            <dl>\n",
       "              <dt>Version</dt>\n",
       "                <dd><code>v3.5.4</code></dd>\n",
       "              <dt>Master</dt>\n",
       "                <dd><code>local[8]</code></dd>\n",
       "              <dt>AppName</dt>\n",
       "                <dd><code>longeval</code></dd>\n",
       "            </dl>\n",
       "        </div>\n",
       "        \n",
       "            </div>\n",
       "        "
      ],
      "text/plain": [
       "<pyspark.sql.session.SparkSession at 0x106f7efd0>"
      ]
     },
     "execution_count": 3,
     "metadata": {},
     "output_type": "execute_result"
    }
   ],
   "source": [
    "from longeval.spark import get_spark\n",
    "\n",
    "spark = get_spark()\n",
    "spark"
   ]
  },
  {
   "cell_type": "code",
   "execution_count": 5,
   "metadata": {},
   "outputs": [
    {
     "name": "stderr",
     "output_type": "stream",
     "text": [
      "UsageError: Line magic function `%count` not found.                             \n"
     ]
    }
   ],
   "source": [
    "from longeval.collection import RawCollection\n",
    "\n",
    "train_eng = RawCollection(\n",
    "    spark, f\"{data_root}/2023_01/English\"\n",
    ")\n",
    "docs = train_eng.documents.cache()\n",
    "%count docs.count()"
   ]
  },
  {
   "cell_type": "code",
   "execution_count": 6,
   "metadata": {},
   "outputs": [
    {
     "name": "stdout",
     "output_type": "stream",
     "text": [
      "-RECORD 0------------------------------------------------------------------------------------\n",
      " contents | Forget the Nukes:\\nTunnels\\nAre North\\nKorea's Secret Weapon\\n|\\nThe\\nNationa... \n",
      " docid    | doc012310000001                                                                  \n",
      "-RECORD 1------------------------------------------------------------------------------------\n",
      " contents | Project Perfect Mod ::\\nView topic\\n- Who will take over the island?\\nDo you ... \n",
      " docid    | doc012310000002                                                                  \n",
      "-RECORD 2------------------------------------------------------------------------------------\n",
      " contents | \"Lawyer James B. Donovan, widely known for negotiating the release of...\\nNie... \n",
      " docid    | doc012310000003                                                                  \n",
      "-RECORD 3------------------------------------------------------------------------------------\n",
      " contents | What Rex Tillerson'\\ns Nomination Means for Russia\\nPolicy\\n|\\nThe\\nNational ... \n",
      " docid    | doc012310000004                                                                  \n",
      "-RECORD 4------------------------------------------------------------------------------------\n",
      " contents | Issan\\n- Collection\\n|\\nPokechange\\nThe Collection\\nCollection content.\\nFilt... \n",
      " docid    | doc012310000005                                                                  \n",
      "only showing top 5 rows\n",
      "\n"
     ]
    }
   ],
   "source": [
    "docs.show(5, vertical=True, truncate=80)"
   ]
  },
  {
   "cell_type": "code",
   "execution_count": 7,
   "metadata": {},
   "outputs": [
    {
     "name": "stdout",
     "output_type": "stream",
     "text": [
      "-RECORD 0---------------------\n",
      " qid   | q012318              \n",
      " query | case over the border \n",
      "-RECORD 1---------------------\n",
      " qid   | q012396              \n",
      " query | water atlantic       \n",
      "-RECORD 2---------------------\n",
      " qid   | q0123180             \n",
      " query | blanquette de vea... \n",
      "-RECORD 3---------------------\n",
      " qid   | q0123240             \n",
      " query | gift woman           \n",
      "-RECORD 4---------------------\n",
      " qid   | q0123387             \n",
      " query | Government           \n",
      "only showing top 5 rows\n",
      "\n"
     ]
    }
   ],
   "source": [
    "train_eng.queries.show(5, vertical=True)"
   ]
  },
  {
   "cell_type": "code",
   "execution_count": 8,
   "metadata": {},
   "outputs": [
    {
     "name": "stdout",
     "output_type": "stream",
     "text": [
      "-RECORD 0----------------\n",
      " qid   | q012318         \n",
      " rank  | 0               \n",
      " docid | doc012303114898 \n",
      " rel   | 0               \n",
      "-RECORD 1----------------\n",
      " qid   | q012318         \n",
      " rank  | 0               \n",
      " docid | doc012307806130 \n",
      " rel   | 1               \n",
      "-RECORD 2----------------\n",
      " qid   | q012318         \n",
      " rank  | 0               \n",
      " docid | doc012311314092 \n",
      " rel   | 0               \n",
      "-RECORD 3----------------\n",
      " qid   | q012318         \n",
      " rank  | 0               \n",
      " docid | doc012301310209 \n",
      " rel   | 0               \n",
      "-RECORD 4----------------\n",
      " qid   | q012318         \n",
      " rank  | 0               \n",
      " docid | doc012311608989 \n",
      " rel   | 0               \n",
      "only showing top 5 rows\n",
      "\n"
     ]
    }
   ],
   "source": [
    "train_eng.qrels.show(5, vertical=True)"
   ]
  },
  {
   "cell_type": "code",
   "execution_count": 12,
   "metadata": {},
   "outputs": [
    {
     "data": {
      "text/plain": [
       "{'name': 'ec8647ef7bdf',\n",
       " 'cluster_name': 'docker-cluster',\n",
       " 'cluster_uuid': 'ZfUnTr8ZT-Ov2PK_CobhPw',\n",
       " 'version': {'distribution': 'opensearch',\n",
       "  'number': '2.18.0',\n",
       "  'build_type': 'tar',\n",
       "  'build_hash': '99a9a81da366173b0c2b963b26ea92e15ef34547',\n",
       "  'build_date': '2024-10-31T19:08:04.231254959Z',\n",
       "  'build_snapshot': False,\n",
       "  'lucene_version': '9.12.0',\n",
       "  'minimum_wire_compatibility_version': '7.10.0',\n",
       "  'minimum_index_compatibility_version': '7.0.0'},\n",
       " 'tagline': 'The OpenSearch Project: https://opensearch.org/'}"
      ]
     },
     "execution_count": 12,
     "metadata": {},
     "output_type": "execute_result"
    }
   ],
   "source": [
    "from opensearchpy import OpenSearch\n",
    "\n",
    "client = OpenSearch(\n",
    "    hosts=\"http://localhost:9200\",\n",
    ")\n",
    "client.info()"
   ]
  },
  {
   "cell_type": "code",
   "execution_count": 13,
   "metadata": {},
   "outputs": [
    {
     "data": {
      "text/plain": [
       "{'acknowledged': True}"
      ]
     },
     "execution_count": 13,
     "metadata": {},
     "output_type": "execute_result"
    }
   ],
   "source": [
    "# add a default index template that sets replicas to 0\n",
    "# also make an indexable contents and docid fields\n",
    "client.indices.put_template(\n",
    "    name=\"default\",\n",
    "    body={\n",
    "        \"index_patterns\": [\"*\"],\n",
    "        \"settings\": {\n",
    "            \"number_of_replicas\": 0,\n",
    "            \"number_of_shards\": 4,\n",
    "        },\n",
    "        \"mappings\": {\n",
    "            \"properties\": {\n",
    "                \"contents\": {\n",
    "                    \"type\": \"text\",\n",
    "                },\n",
    "                \"docid\": {\n",
    "                    \"type\": \"keyword\",\n",
    "                },\n",
    "            },\n",
    "        },\n",
    "    },\n",
    ")"
   ]
  },
  {
   "cell_type": "code",
   "execution_count": 14,
   "metadata": {},
   "outputs": [
    {
     "name": "stdout",
     "output_type": "stream",
     "text": [
      "green open .opensearch-observability NjP0f8pEQRWGF5Dzevrkbw 1 0 0 0  208b  208b\n",
      "green open .plugins-ml-config        p4PGo4QqTui16JhBHpaqvQ 1 0 1 0   4kb   4kb\n",
      "green open .ql-datasources           t64TwkMFS9WIVqms2plQvA 1 0 0 0  208b  208b\n",
      "green open .kibana_1                 FP__coYdQUCWeAtADNY-iA 1 0 1 0 5.3kb 5.3kb\n",
      "\n"
     ]
    }
   ],
   "source": [
    "# list all indices\n",
    "print(client.cat.indices())"
   ]
  },
  {
   "cell_type": "code",
   "execution_count": null,
   "metadata": {},
   "outputs": [],
   "source": [
    "from longeval.collection import ParquetCollection\n",
    "from longeval.spark import get_spark\n",
    "\n",
    "spark = get_spark()\n",
    "\n",
    "root = \"../../data/longeval/parquet/\"\n",
    "collection = ParquetCollection(spark, f\"{root}/2023_01/Documents/Json\")\n",
    "collection.documents.show(n=5)"
   ]
  },
  {
   "cell_type": "code",
   "execution_count": 20,
   "metadata": {},
   "outputs": [],
   "source": [
    "index_name = \"test_index_1\"  \n",
    "\n",
    "document = {\n",
    "    \"contents\": \"This is a test document.\",\n",
    "    \"docid\": \"12345\"\n",
    "}\n",
    "\n",
    "response = client.index(\n",
    "    index=index_name,\n",
    "    body=document,\n",
    "    id=\"1\"  \n",
    ")"
   ]
  },
  {
   "cell_type": "code",
   "execution_count": 21,
   "metadata": {},
   "outputs": [
    {
     "name": "stdout",
     "output_type": "stream",
     "text": [
      "{'test_index_1': {'mappings': {'properties': {'contents': {'type': 'text'}, 'docid': {'type': 'keyword'}}}}}\n"
     ]
    }
   ],
   "source": [
    "response = client.indices.get_mapping(index=index_name)\n",
    "print(response)"
   ]
  },
  {
   "cell_type": "code",
   "execution_count": 22,
   "metadata": {},
   "outputs": [],
   "source": [
    "index_name = \"test_index_1\"  \n",
    "\n",
    "document = {\n",
    "    \"contents\": \"This is the 2nd test document.\",\n",
    "    \"docid\": \"111\"\n",
    "}\n",
    "\n",
    "response = client.index(\n",
    "    index=index_name,\n",
    "    body=document,\n",
    "    id=\"2\"  \n",
    ")"
   ]
  },
  {
   "cell_type": "code",
   "execution_count": 23,
   "metadata": {},
   "outputs": [],
   "source": [
    "index_name = \"animal_index\"  \n",
    "\n",
    "doc_1 = {\n",
    "    \"contents\": \"I am a dog. I like the color green.\",\n",
    "    \"docid\": \"111\"\n",
    "}\n",
    "\n",
    "doc_2 = {\n",
    "    \"contents\": \"I am a cat. I like the color purple but sometimes red.\",\n",
    "    \"docid\": \"222\"\n",
    "}\n",
    "\n",
    "doc_3 = {\n",
    "    \"contents\": \"I am a horse. I dont like the color orange but I like blue.\",\n",
    "    \"docid\": \"333\"\n",
    "}\n",
    "\n",
    "response = client.index(\n",
    "    index=index_name,\n",
    "    body=doc_1,\n",
    "    id=\"1\"  \n",
    ")\n",
    "\n",
    "response = client.index(\n",
    "    index=index_name,\n",
    "    body=doc_2,\n",
    "    id=\"2\"  \n",
    ")\n",
    "\n",
    "response = client.index(\n",
    "    index=index_name,\n",
    "    body=doc_3,\n",
    "    id=\"3\"  \n",
    ")"
   ]
  },
  {
   "cell_type": "code",
   "execution_count": 25,
   "metadata": {},
   "outputs": [
    {
     "name": "stdout",
     "output_type": "stream",
     "text": [
      "{'took': 9, 'timed_out': False, '_shards': {'total': 4, 'successful': 4, 'skipped': 0, 'failed': 0}, 'hits': {'total': {'value': 3, 'relation': 'eq'}, 'max_score': 0.17382786, 'hits': [{'_index': 'animal_index', '_id': '3', '_score': 0.17382786, '_source': {'contents': 'I am a horse. I dont like the color orange but I like blue.', 'docid': '333'}}, {'_index': 'animal_index', '_id': '1', '_score': 0.1473054, '_source': {'contents': 'I am a dog. I like the color green.', 'docid': '111'}}, {'_index': 'animal_index', '_id': '2', '_score': 0.13198866, '_source': {'contents': 'I am a cat. I like the color purple but sometimes red.', 'docid': '222'}}]}}\n"
     ]
    }
   ],
   "source": [
    "from opensearchpy import OpenSearch\n",
    "\n",
    "query = {\n",
    "    \"query\": {\n",
    "        \"match\": {\n",
    "            \"contents\": \"like\" # appears twice in doc 3\n",
    "        }\n",
    "    }\n",
    "}\n",
    "\n",
    "response = client.search(\n",
    "    index=\"animal_index\",  \n",
    "    body=query             \n",
    ")\n",
    "\n",
    "print(response) # max score matches the horse statement"
   ]
  }
 ],
 "metadata": {
  "kernelspec": {
   "display_name": "3.9.16",
   "language": "python",
   "name": "python3"
  },
  "language_info": {
   "codemirror_mode": {
    "name": "ipython",
    "version": 3
   },
   "file_extension": ".py",
   "mimetype": "text/x-python",
   "name": "python",
   "nbconvert_exporter": "python",
   "pygments_lexer": "ipython3",
   "version": "3.9.16"
  }
 },
 "nbformat": 4,
 "nbformat_minor": 2
}
