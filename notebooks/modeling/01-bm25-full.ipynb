{
 "cells": [
  {
   "cell_type": "code",
   "execution_count": 4,
   "metadata": {},
   "outputs": [
    {
     "name": "stderr",
     "output_type": "stream",
     "text": [
      "25/03/16 03:18:52 WARN SparkSession: Using an existing Spark session; only runtime SQL configurations will take effect.\n"
     ]
    }
   ],
   "source": [
    "from longeval.spark import get_spark\n",
    "from longeval.collection import ParquetCollection\n",
    "from pyspark.sql import functions as F, Window\n",
    "from pathlib import Path\n",
    "from opensearchpy import OpenSearch\n",
    "from sklearn.metrics import ndcg_score\n",
    "\n",
    "spark = get_spark()\n",
    "root = Path(\"~/\").expanduser() / \"scratch/longeval\"\n",
    "collection = ParquetCollection(spark, f\"{root}/parquet/train/2023_01/English\")\n",
    "\n",
    "relevant_queries = collection.queries.join(\n",
    "    collection.qrels.where(\"rel > 0\")\n",
    "    .groupBy(\"qid\")\n",
    "    .agg(F.collect_set(\"docid\").alias(\"rel_docids\")),\n",
    "    on=\"qid\",\n",
    ").select(\"qid\", \"query\", \"rel_docids\")"
   ]
  },
  {
   "cell_type": "code",
   "execution_count": 13,
   "metadata": {},
   "outputs": [
    {
     "name": "stdout",
     "output_type": "stream",
     "text": [
      "+-------+------------------+\n",
      "|summary|  size(rel_docids)|\n",
      "+-------+------------------+\n",
      "|  count|               599|\n",
      "|   mean| 7.282136894824708|\n",
      "| stddev|2.0460087848745068|\n",
      "|    min|                 6|\n",
      "|    max|                19|\n",
      "+-------+------------------+\n",
      "\n"
     ]
    }
   ],
   "source": [
    "relevant_queries.select(F.size(\"rel_docids\")).describe().show()"
   ]
  },
  {
   "cell_type": "code",
   "execution_count": 9,
   "metadata": {},
   "outputs": [],
   "source": [
    "def generate_bulk_query(df, index_name: str, k: int = 50) -> list[dict]:\n",
    "    data = []\n",
    "    for row in df.itertuples():\n",
    "        data += [\n",
    "            {\n",
    "                \"index\": index_name,\n",
    "            },\n",
    "            {\n",
    "                \"query\": {\n",
    "                    \"match\": {\n",
    "                        \"contents\": {\n",
    "                            \"query\": row.query,\n",
    "                        }\n",
    "                    }\n",
    "                },\n",
    "                \"_source\": False,\n",
    "                \"size\": k,\n",
    "            },\n",
    "        ]\n",
    "    return data\n",
    "\n",
    "\n",
    "@F.udf(\"struct<ndcg: double, rel_count: int>\")\n",
    "def compute_scores(docids: list[str], rel_docids: list[str]) -> dict:\n",
    "    if not docids:\n",
    "        return {\"ndcg\": 0.0, \"rel_count\": 0}\n",
    "    true_rel = [1 if docid in rel_docids else 0 for docid in docids]\n",
    "    pred_rel = list(range(len(docids), 0, -1))\n",
    "\n",
    "    # handle the case where there is only a single document, which the sklearn\n",
    "    # metric does not handle well\n",
    "    if len(true_rel) == 1:\n",
    "        score = true_rel[0]\n",
    "        return {\"ndcg\": float(score), \"rel_count\": int(score)}\n",
    "    return {\n",
    "        \"ndcg\": float(ndcg_score([true_rel], [pred_rel])),\n",
    "        \"rel_count\": sum(true_rel),\n",
    "    }\n",
    "\n",
    "\n",
    "def run_search(relevant_queries, index_name: str, host=\"localhost:9200\") -> list[dict]:\n",
    "    client = OpenSearch(host)\n",
    "\n",
    "    pdf = relevant_queries.toPandas()\n",
    "    results = client.msearch(generate_bulk_query(pdf, index_name))\n",
    "    # now iterate over the results and add in the original query\n",
    "    for row, obj in zip(pdf.itertuples(), results[\"responses\"]):\n",
    "        obj[\"qid\"] = row.qid\n",
    "\n",
    "    schema = \"\"\"\n",
    "        qid: string,\n",
    "        hits: struct<\n",
    "            total: struct<value: long, relation: string>,\n",
    "            max_score: double,\n",
    "            hits: array<struct<_index: string, _id: string, _score: double>>\n",
    "        >\n",
    "    \"\"\"\n",
    "    resp = (\n",
    "        spark.createDataFrame(results[\"responses\"], schema=schema)\n",
    "        .select(\"qid\", \"hits.*\")\n",
    "        .withColumn(\"total\", F.col(\"total.value\"))\n",
    "    )\n",
    "\n",
    "    window = Window.partitionBy(\"qid\").orderBy(F.desc(\"hits._score\"), F.asc(\"hits._id\"))\n",
    "    return (\n",
    "        resp.select(\n",
    "            \"qid\", \"total\", \"max_score\", F.posexplode(\"hits\").alias(\"pos\", \"hits\")\n",
    "        )\n",
    "        .withColumn(\"docids\", F.collect_list(F.col(\"hits._id\")).over(window))\n",
    "        .withColumn(\"scores\", F.collect_list(F.col(\"hits._score\")).over(window))\n",
    "        .groupBy(\"qid\")\n",
    "        .agg(\n",
    "            F.any_value(\"total\").alias(\"total\"),\n",
    "            F.any_value(\"max_score\").alias(\"max_score\"),\n",
    "            F.max(\"docids\").alias(\"docids\"),\n",
    "            F.max(\"scores\").alias(\"scores\"),\n",
    "        )\n",
    "        .join(\n",
    "            relevant_queries.select(\"qid\", \"rel_docids\"),\n",
    "            on=\"qid\",\n",
    "        )\n",
    "        .withColumn(\"scores\", compute_scores(F.col(\"docids\"), F.col(\"rel_docids\")))\n",
    "    )"
   ]
  },
  {
   "cell_type": "code",
   "execution_count": 10,
   "metadata": {},
   "outputs": [
    {
     "name": "stderr",
     "output_type": "stream",
     "text": [
      "INFO:opensearch:POST http://localhost:9200/_msearch [status:200 request:4.422s]\n",
      "[Stage 38:====================================================> (196 + 4) / 200]\r"
     ]
    },
    {
     "name": "stdout",
     "output_type": "stream",
     "text": [
      "+-----------------+-----+---------+--------------------+--------------------+--------------------+\n",
      "|              qid|total|max_score|              docids|              scores|          rel_docids|\n",
      "+-----------------+-----+---------+--------------------+--------------------+--------------------+\n",
      "|  q01238589934750|  325| 18.65921|[doc012303114671,...|{0.34561852186877...|[doc012311714403,...|\n",
      "| q012334359739164|10000|26.772526|[doc012302714978,...|{0.63216048917480...|[doc012311108501,...|\n",
      "| q012360129542513|10000|14.505418|[doc012305205192,...|{0.44020499676612...|[doc012311313198,...|\n",
      "| q012360129543646|10000|  12.9868|[doc012312210422,...|            {1.0, 1}|[doc012312210422,...|\n",
      "|q0123103079215891|10000|20.341152|[doc012301119210,...|{0.94563527046735...|[doc012301119210,...|\n",
      "|q0123111669150911|10000| 14.23442|[doc012312006786,...|            {0.0, 0}|[doc012307814240,...|\n",
      "|q0123120259085172| 6752| 24.29629|[doc012304008081,...|{0.47574215113581...|[doc012311313428,...|\n",
      "|q0123120259086252|10000|17.456795|[doc012303114838,...|{0.17905223175104...|[doc012302005444,...|\n",
      "| q012317179871244|10000|15.517631|[doc012310607997,...|{0.43067655807339...|[doc012309013944,...|\n",
      "|        q01231876|10000|24.029942|[doc012312006257,...|{0.79961998274381...|[doc012310413205,...|\n",
      "| q012325769805427|10000|16.256859|[doc012304816442,...|            {0.0, 0}|[doc012304313641,...|\n",
      "| q012334359739354|10000|25.202185|[doc012310401522,...|{0.52218600676607...|[doc012308900849,...|\n",
      "|  q01238589936278|10000|19.771004|[doc012300217942,...|            {0.0, 0}|[doc012306404809,...|\n",
      "|q0123103079216681|10000|25.744528|[doc012305304918,...|            {0.0, 0}|[doc012311908757,...|\n",
      "| q012325769805594|10000|20.973816|[doc012309211149,...|{0.32634314857414...|[doc012303114836,...|\n",
      "| q012342949674351|  115|20.389597|[doc012308812236,...|{0.61490202440255...|[doc012309013397,...|\n",
      "| q012394489281275|10000|18.363546|[doc012301504979,...|            {0.0, 0}|[doc012304211166,...|\n",
      "| q012317179870904|10000|36.558598|[doc012308601623,...|{0.50571658690771...|[doc012303115192,...|\n",
      "| q012351539608433|10000|16.471495|[doc012303512979,...|{0.58165828685121...|[doc012306405487,...|\n",
      "|q0123111669151117|10000|24.971954|[doc012310413947,...|{0.77655984114828...|[doc012312006236,...|\n",
      "+-----------------+-----+---------+--------------------+--------------------+--------------------+\n",
      "only showing top 20 rows\n",
      "\n"
     ]
    },
    {
     "name": "stderr",
     "output_type": "stream",
     "text": [
      "                                                                                \r"
     ]
    }
   ],
   "source": [
    "res = run_search(relevant_queries, \"longeval-train-english-2023_01\").cache()\n",
    "res.show()"
   ]
  },
  {
   "cell_type": "code",
   "execution_count": null,
   "metadata": {},
   "outputs": [
    {
     "name": "stderr",
     "output_type": "stream",
     "text": [
      "[Stage 57:=========================================>            (152 + 4) / 200]\r"
     ]
    },
    {
     "name": "stdout",
     "output_type": "stream",
     "text": [
      "+-------+-------------------+\n",
      "|summary|               ndcg|\n",
      "+-------+-------------------+\n",
      "|  count|                597|\n",
      "|   mean|0.44121392504198237|\n",
      "| stddev| 0.2897673578153641|\n",
      "|    min|                0.0|\n",
      "|    max|                1.0|\n",
      "+-------+-------------------+\n",
      "\n"
     ]
    },
    {
     "name": "stderr",
     "output_type": "stream",
     "text": [
      "                                                                                \r"
     ]
    }
   ],
   "source": [
    "# average ndcg score, how accurate is this?\n",
    "res.select(\"scores.ndcg\").describe().show()"
   ]
  }
 ],
 "metadata": {
  "kernelspec": {
   "display_name": ".venv",
   "language": "python",
   "name": "python3"
  },
  "language_info": {
   "codemirror_mode": {
    "name": "ipython",
    "version": 3
   },
   "file_extension": ".py",
   "mimetype": "text/x-python",
   "name": "python",
   "nbconvert_exporter": "python",
   "pygments_lexer": "ipython3",
   "version": "3.12.3"
  }
 },
 "nbformat": 4,
 "nbformat_minor": 2
}
