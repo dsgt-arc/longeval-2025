{
 "cells": [
  {
   "cell_type": "code",
   "execution_count": 1,
   "metadata": {},
   "outputs": [
    {
     "name": "stderr",
     "output_type": "stream",
     "text": [
      "Setting default log level to \"WARN\".\n",
      "To adjust logging level use sc.setLogLevel(newLevel). For SparkR, use setLogLevel(newLevel).\n",
      "25/03/16 05:55:25 WARN NativeCodeLoader: Unable to load native-hadoop library for your platform... using builtin-java classes where applicable\n",
      "25/03/16 05:55:26 WARN SparkConf: Note that spark.local.dir will be overridden by the value set by the cluster manager (via SPARK_LOCAL_DIRS in mesos/standalone/kubernetes and LOCAL_DIRS in YARN).\n"
     ]
    }
   ],
   "source": [
    "%load_ext autoreload\n",
    "%autoreload 2\n",
    "from longeval.spark import get_spark\n",
    "from longeval.collection import ParquetCollection\n",
    "from pathlib import Path\n",
    "from longeval.evaluation import prepare_queries, run_search, score_search\n",
    "\n",
    "spark = get_spark()\n",
    "root = Path(\"~/\").expanduser() / \"scratch/longeval\"\n",
    "train_en_collection = ParquetCollection(spark, f\"{root}/parquet/train/2023_01/English\")"
   ]
  },
  {
   "cell_type": "code",
   "execution_count": 2,
   "metadata": {},
   "outputs": [
    {
     "name": "stdout",
     "output_type": "stream",
     "text": [
      "IOStream.flush timed out\n",
      "green open longeval-test-english-2023_06  nNt2rlNoQrOE5zv1g7k0DQ 1 0 1790028 0 6.5gb 6.5gb\n",
      "green open longeval-test-english-2023_08  C7IUKwb5Q3mOQuQkIgemaA 1 0 2531614 0 6.4gb 6.4gb\n",
      "green open longeval-test-french-2023_06   bB-h1G1LRaC4baYUYskaVQ 1 0 1790028 0 6.9gb 6.9gb\n",
      "green open longeval-test-french-2023_08   fXk4gWNTRMyHJjRDvkI9Mg 1 0 2531614 0 6.8gb 6.8gb\n",
      "green open longeval-train-english-2023_01 xdfAKea2ShKJIQBJjpc_6w 1 0 2049729 0 9.1gb 9.1gb\n",
      "green open longeval-train-french-2023_01  uLkqlDp2SjewGftZzpsBJA 1 0 2049729 0 9.6gb 9.6gb\n"
     ]
    }
   ],
   "source": [
    "! curl -s localhost:9200/_cat/indices | grep longeval | sort"
   ]
  },
  {
   "cell_type": "code",
   "execution_count": 4,
   "metadata": {},
   "outputs": [
    {
     "name": "stdout",
     "output_type": "stream",
     "text": [
      "root\n",
      " |-- qid: string (nullable = true)\n",
      " |-- query: string (nullable = true)\n",
      " |-- qrel: array (nullable = false)\n",
      " |    |-- element: struct (containsNull = false)\n",
      " |    |    |-- docid: string (nullable = true)\n",
      " |    |    |-- rel: integer (nullable = true)\n",
      "\n",
      "+-----------------+-------------------+----------------------------------------------------------------------------------------------------+\n",
      "|              qid|              query|                                                                                                qrel|\n",
      "+-----------------+-------------------+----------------------------------------------------------------------------------------------------+\n",
      "|q0123103079215124|bill of sale vessel|[{doc012300710752, 1}, {doc012304200443, 0}, {doc012311608205, 0}, {doc012311713469, 1}, {doc0123...|\n",
      "|q0123103079215188|   areches beaufort|[{doc012310509318, 1}, {doc012304303918, 2}, {doc012312404802, 0}, {doc012304816793, 1}, {doc0123...|\n",
      "|q0123103079215846|     schengen space|[{doc012311802304, 1}, {doc012303114703, 1}, {doc012312006255, 1}, {doc012312006548, 1}, {doc0123...|\n",
      "+-----------------+-------------------+----------------------------------------------------------------------------------------------------+\n",
      "only showing top 3 rows\n",
      "\n"
     ]
    }
   ],
   "source": [
    "queries = prepare_queries(train_en_collection)\n",
    "queries.printSchema()\n",
    "queries.show(n=3, truncate=100)"
   ]
  },
  {
   "cell_type": "code",
   "execution_count": 21,
   "metadata": {},
   "outputs": [
    {
     "name": "stderr",
     "output_type": "stream",
     "text": [
      "INFO:opensearch:POST http://localhost:9200/_msearch [status:200 request:26.127s]\n",
      "25/03/16 06:07:56 WARN SparkSession: Using an existing Spark session; only runtime SQL configurations will take effect.\n"
     ]
    },
    {
     "name": "stdout",
     "output_type": "stream",
     "text": [
      "root\n",
      " |-- qid: string (nullable = true)\n",
      " |-- total: long (nullable = true)\n",
      " |-- max_score: double (nullable = true)\n",
      " |-- docids: array (nullable = true)\n",
      " |    |-- element: string (containsNull = false)\n",
      " |-- scores: array (nullable = true)\n",
      " |    |-- element: double (containsNull = false)\n",
      " |-- qrel: array (nullable = false)\n",
      " |    |-- element: struct (containsNull = false)\n",
      " |    |    |-- docid: string (nullable = true)\n",
      " |    |    |-- rel: integer (nullable = true)\n",
      "\n"
     ]
    },
    {
     "name": "stderr",
     "output_type": "stream",
     "text": [
      "25/03/16 06:07:58 WARN TaskSetManager: Stage 185 contains a task of very large size (8874 KiB). The maximum recommended task size is 1000 KiB.\n",
      "25/03/16 06:08:27 WARN SparkSession: Using an existing Spark session; only runtime SQL configurations will take effect.\n",
      "[Stage 191:>                                                        (0 + 4) / 4]\r"
     ]
    },
    {
     "name": "stdout",
     "output_type": "stream",
     "text": [
      "+-------+-------------------+------------------+------------------+-------------------+------------------+-------------------+-------------------+-------------------+-------------------+-------------------+-------------------+-------------------+-----------------+\n",
      "|summary|                map|              ndcg|       ndcg_cut_10|       ndcg_cut_100|     ndcg_cut_1000|        ndcg_cut_15|        ndcg_cut_20|       ndcg_cut_200|        ndcg_cut_30|         ndcg_cut_5|       ndcg_cut_500|           ndcg_rel|              qid|\n",
      "+-------+-------------------+------------------+------------------+-------------------+------------------+-------------------+-------------------+-------------------+-------------------+-------------------+-------------------+-------------------+-----------------+\n",
      "|  count|                597|               597|               597|                597|               597|                597|                597|                597|                597|                597|                597|                597|              597|\n",
      "|   mean|0.17472407604699716|0.3559731470622789|0.1920590306618126| 0.3052959103103555|0.3559731470622789|0.21836089644567172|0.23461251246825715| 0.3235887456973401|  0.257662845435516|0.16578022934878775| 0.3437317036367205| 0.2865555029713053|             NULL|\n",
      "| stddev|0.18969844195807492|0.2151887009938718|0.2119793710049918|0.23652010294200293|0.2151887009938718|0.22453348304835627|0.22935027230290214|0.23173932650722312|0.23327295583541266| 0.2048672612215427|0.22253971895878039|0.19652916090183675|             NULL|\n",
      "|    min|                0.0|               0.0|               0.0|                0.0|               0.0|                0.0|                0.0|                0.0|                0.0|                0.0|                0.0|                0.0|q0123103079215124|\n",
      "|    max| 0.8491452991452991|0.9638866469931366|0.9191138326087953| 0.9638866469931366|0.9638866469931366| 0.9638866469931366| 0.9638866469931366| 0.9638866469931366| 0.9638866469931366|  0.934397461243829| 0.9638866469931366| 0.9694779957047815|          q012396|\n",
      "+-------+-------------------+------------------+------------------+-------------------+------------------+-------------------+-------------------+-------------------+-------------------+-------------------+-------------------+-------------------+-----------------+\n",
      "\n"
     ]
    },
    {
     "name": "stderr",
     "output_type": "stream",
     "text": [
      "                                                                                \r"
     ]
    }
   ],
   "source": [
    "search_df = run_search(queries, \"longeval-train-english-2023_01\", k=1000)\n",
    "search_df.printSchema()\n",
    "eval_en_202301 = score_search(search_df)\n",
    "eval_en_202301.describe().show()"
   ]
  },
  {
   "cell_type": "code",
   "execution_count": 25,
   "metadata": {},
   "outputs": [
    {
     "name": "stderr",
     "output_type": "stream",
     "text": [
      "25/03/16 06:16:38 WARN CacheManager: Asked to cache already cached data.\n",
      "INFO:opensearch:POST http://localhost:9200/_msearch [status:200 request:3.637s]\n",
      "25/03/16 06:16:42 WARN SparkSession: Using an existing Spark session; only runtime SQL configurations will take effect.\n",
      "25/03/16 06:16:45 WARN SparkSession: Using an existing Spark session; only runtime SQL configurations will take effect.\n",
      "INFO:opensearch:POST http://localhost:9200/_msearch [status:200 request:3.781s]\n",
      "25/03/16 06:16:49 WARN SparkSession: Using an existing Spark session; only runtime SQL configurations will take effect.\n",
      "25/03/16 06:16:51 WARN SparkSession: Using an existing Spark session; only runtime SQL configurations will take effect.\n",
      "INFO:opensearch:POST http://localhost:9200/_msearch [status:200 request:6.163s]\n",
      "25/03/16 06:16:59 WARN SparkSession: Using an existing Spark session; only runtime SQL configurations will take effect.\n",
      "25/03/16 06:17:02 WARN SparkSession: Using an existing Spark session; only runtime SQL configurations will take effect.\n"
     ]
    }
   ],
   "source": [
    "# english scores\n",
    "en_scores = {}\n",
    "train_en_collection = ParquetCollection(spark, f\"{root}/parquet/train/2023_01/English\")\n",
    "en_queries = prepare_queries(train_en_collection).cache()\n",
    "\n",
    "indices = [\n",
    "    \"longeval-train-english-2023_01\",\n",
    "    \"longeval-test-english-2023_06\",\n",
    "    \"longeval-test-english-2023_08\",\n",
    "]\n",
    "for date in [\"2023_01\", \"2023_06\", \"2023_08\"]:\n",
    "    index = [x for x in indices if date in x][0]\n",
    "    search_df = run_search(en_queries, index, k=100)\n",
    "    eval_df = score_search(search_df)\n",
    "    en_scores[date] = eval_df"
   ]
  },
  {
   "cell_type": "code",
   "execution_count": 30,
   "metadata": {},
   "outputs": [
    {
     "name": "stderr",
     "output_type": "stream",
     "text": [
      "                                                                                \r"
     ]
    },
    {
     "data": {
      "text/plain": [
       "[0.1920590306618126, 0.0, 0.0]"
      ]
     },
     "execution_count": 30,
     "metadata": {},
     "output_type": "execute_result"
    }
   ],
   "source": [
    "# get means of the scores\n",
    "from pyspark.sql import functions as F\n",
    "\n",
    "scores = [\n",
    "    en_scores[date].select(F.mean(\"ndcg_cut_10\").alias(\"score\")).first().score\n",
    "    for date in [\"2023_01\", \"2023_06\", \"2023_08\"]\n",
    "]\n",
    "scores"
   ]
  },
  {
   "cell_type": "code",
   "execution_count": null,
   "metadata": {},
   "outputs": [],
   "source": [
    "# english scores\n",
    "fr_scores = {}\n",
    "train_fr_collection = ParquetCollection(spark, f\"{root}/parquet/train/2023_01/French\")\n",
    "queries = prepare_queries(train_en_collection).cache()\n",
    "\n",
    "indices = [\n",
    "    \"longeval-train-french-2023_01\",\n",
    "    \"longeval-test-french-2023_06\",\n",
    "    \"longeval-test-french-2023_8\",\n",
    "]\n",
    "for date in [\"2023_01\", \"2023_06\", \"2023_08\"]:\n",
    "    index = [x for x in indices if date in x][0]\n",
    "    search_df = run_search(queries, index, k=100)\n",
    "    eval_df = score_search(search_df)\n",
    "    en_scores[date] = eval_df"
   ]
  }
 ],
 "metadata": {
  "kernelspec": {
   "display_name": ".venv",
   "language": "python",
   "name": "python3"
  },
  "language_info": {
   "codemirror_mode": {
    "name": "ipython",
    "version": 3
   },
   "file_extension": ".py",
   "mimetype": "text/x-python",
   "name": "python",
   "nbconvert_exporter": "python",
   "pygments_lexer": "ipython3",
   "version": "3.12.3"
  }
 },
 "nbformat": 4,
 "nbformat_minor": 2
}
