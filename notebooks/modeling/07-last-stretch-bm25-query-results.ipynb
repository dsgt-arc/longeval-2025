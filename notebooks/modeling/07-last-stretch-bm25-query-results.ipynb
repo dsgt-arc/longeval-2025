{
 "cells": [
  {
   "cell_type": "code",
   "execution_count": 1,
   "id": "d28769eb",
   "metadata": {},
   "outputs": [],
   "source": [
    "%load_ext autoreload\n",
    "%autoreload 2"
   ]
  },
  {
   "cell_type": "markdown",
   "id": "ccf1c558",
   "metadata": {},
   "source": [
    "## retrieval"
   ]
  },
  {
   "cell_type": "code",
   "execution_count": 3,
   "id": "32be4b10",
   "metadata": {},
   "outputs": [
    {
     "name": "stderr",
     "output_type": "stream",
     "text": [
      "25/05/25 22:51:44 WARN SparkSession: Using an existing Spark session; only runtime SQL configurations will take effect.\n"
     ]
    },
    {
     "name": "stdout",
     "output_type": "stream",
     "text": [
      "root\n",
      " |-- qid: string (nullable = true)\n",
      " |-- rank: integer (nullable = true)\n",
      " |-- docid: string (nullable = true)\n",
      " |-- score: double (nullable = true)\n",
      " |-- date: string (nullable = true)\n",
      "\n"
     ]
    }
   ],
   "source": [
    "from longeval.spark import get_spark\n",
    "from pathlib import Path\n",
    "\n",
    "spark = get_spark(cores=8, memory=\"20g\")\n",
    "\n",
    "data_root = Path(\"~/shared/longeval/2025/bm25/retrieval\").expanduser()\n",
    "retrieval = spark.read.parquet(data_root.as_posix())\n",
    "retrieval.printSchema()"
   ]
  },
  {
   "cell_type": "code",
   "execution_count": 4,
   "id": "55a692f6",
   "metadata": {},
   "outputs": [
    {
     "name": "stderr",
     "output_type": "stream",
     "text": [
      "                                                                                \r"
     ]
    },
    {
     "data": {
      "text/plain": [
       "22483047"
      ]
     },
     "execution_count": 4,
     "metadata": {},
     "output_type": "execute_result"
    }
   ],
   "source": [
    "retrieval.count()"
   ]
  },
  {
   "cell_type": "code",
   "execution_count": 20,
   "id": "c23a2b37",
   "metadata": {},
   "outputs": [
    {
     "name": "stderr",
     "output_type": "stream",
     "text": [
      "[Stage 109:==================================================>      (8 + 1) / 9]\r"
     ]
    },
    {
     "name": "stdout",
     "output_type": "stream",
     "text": [
      "+-------+-----+---+---+\n",
      "|   date|  qid|  n|  k|\n",
      "+-------+-----+---+---+\n",
      "|2022-08|22805|100|100|\n",
      "|2022-08|23673|100|100|\n",
      "|2022-08|24139|100|100|\n",
      "|2022-08|16216|100|100|\n",
      "|2022-08|17195|100|100|\n",
      "|2022-08| 8735|100|100|\n",
      "|2022-08| 9710|100|100|\n",
      "|2022-07|27129|100|100|\n",
      "|2022-08|33618|100|100|\n",
      "|2022-08|33673|100|100|\n",
      "+-------+-----+---+---+\n",
      "only showing top 10 rows\n"
     ]
    },
    {
     "name": "stderr",
     "output_type": "stream",
     "text": [
      "                                                                                \r"
     ]
    }
   ],
   "source": [
    "from pyspark.sql import functions as F\n",
    "\n",
    "df = (\n",
    "    retrieval.groupBy(\"date\", \"qid\")\n",
    "    .agg(F.count(\"docid\").alias(\"n\"), F.countDistinct(\"docid\").alias(\"k\"))\n",
    "    .cache()\n",
    ")\n",
    "df.show(10)"
   ]
  },
  {
   "cell_type": "code",
   "execution_count": 27,
   "id": "63118b51",
   "metadata": {},
   "outputs": [
    {
     "data": {
      "text/plain": [
       "0"
      ]
     },
     "execution_count": 27,
     "metadata": {},
     "output_type": "execute_result"
    }
   ],
   "source": [
    "# how many duplicate queries? turns out there aren't any\n",
    "df.groupBy(\"date\", \"qid\").count().filter(F.col(\"count\") > 1).count()"
   ]
  },
  {
   "cell_type": "code",
   "execution_count": 28,
   "id": "18e93f94",
   "metadata": {},
   "outputs": [
    {
     "name": "stdout",
     "output_type": "stream",
     "text": [
      "+-------+-------+------------------+------------------+------------------+\n",
      "|summary|   date|               qid|                 n|                 k|\n",
      "+-------+-------+------------------+------------------+------------------+\n",
      "|  count| 213402|            213402|            213402|            213402|\n",
      "|   mean|   NULL| 29197.23128180617|105.35537155228161| 95.17458130664193|\n",
      "| stddev|   NULL|21621.549424554232| 28.65202909187452|13.964482794544134|\n",
      "|    min|2022-06|                10|                 1|                 1|\n",
      "|    max|2023-08|              9999|               200|               100|\n",
      "+-------+-------+------------------+------------------+------------------+\n",
      "\n"
     ]
    }
   ],
   "source": [
    "df.describe().show()"
   ]
  },
  {
   "cell_type": "code",
   "execution_count": 29,
   "id": "459013ff",
   "metadata": {},
   "outputs": [
    {
     "name": "stdout",
     "output_type": "stream",
     "text": [
      "+-------+-----+\n",
      "|   date|count|\n",
      "+-------+-----+\n",
      "|2022-06|  711|\n",
      "|2022-07|  716|\n",
      "|2022-08|  763|\n",
      "|2022-09|  138|\n",
      "|2022-10|11942|\n",
      "|2022-11|14661|\n",
      "|2022-12|  239|\n",
      "|2023-01|15819|\n",
      "|2023-02|  153|\n",
      "|2023-03|  133|\n",
      "|2023-04|  229|\n",
      "|2023-05|  198|\n",
      "|2023-06|  165|\n",
      "|2023-07|  197|\n",
      "|2023-08|  225|\n",
      "+-------+-----+\n",
      "\n"
     ]
    }
   ],
   "source": [
    "df.where(\"k < 100\").groupBy(\"date\").count().orderBy(\"date\").show()"
   ]
  },
  {
   "cell_type": "code",
   "execution_count": 16,
   "id": "173df38e",
   "metadata": {},
   "outputs": [
    {
     "name": "stdout",
     "output_type": "stream",
     "text": [
      "+-------+-----+\n",
      "|   date|count|\n",
      "+-------+-----+\n",
      "|2022-06|23431|\n",
      "|2022-07|24225|\n",
      "|2022-08|26957|\n",
      "|2022-09| 7604|\n",
      "|2022-10|  146|\n",
      "|2022-11|  216|\n",
      "|2022-12|14991|\n",
      "|2023-01|   58|\n",
      "|2023-02| 7747|\n",
      "|2023-03| 5474|\n",
      "|2023-04|14217|\n",
      "|2023-05|11350|\n",
      "|2023-06| 8519|\n",
      "|2023-07| 9563|\n",
      "|2023-08|12615|\n",
      "+-------+-----+\n",
      "\n"
     ]
    }
   ],
   "source": [
    "df.where(\"k >= 100\").groupBy(\"date\").count().orderBy(\"date\").show()"
   ]
  },
  {
   "cell_type": "markdown",
   "id": "9c1f0ed3",
   "metadata": {},
   "source": [
    "## evaluation"
   ]
  },
  {
   "cell_type": "code",
   "execution_count": 31,
   "id": "c62d1043",
   "metadata": {},
   "outputs": [
    {
     "name": "stdout",
     "output_type": "stream",
     "text": [
      "root\n",
      " |-- map: double (nullable = true)\n",
      " |-- ndcg: double (nullable = true)\n",
      " |-- ndcg_cut_10: double (nullable = true)\n",
      " |-- ndcg_rel: double (nullable = true)\n",
      " |-- qid: string (nullable = true)\n",
      " |-- date: string (nullable = true)\n",
      "\n"
     ]
    }
   ],
   "source": [
    "data_root = Path(\"~/shared/longeval/2025/bm25/evaluation\").expanduser()\n",
    "evaluation = spark.read.parquet(data_root.as_posix())\n",
    "evaluation.printSchema()"
   ]
  },
  {
   "cell_type": "code",
   "execution_count": 36,
   "id": "b52aaa1b",
   "metadata": {},
   "outputs": [
    {
     "name": "stdout",
     "output_type": "stream",
     "text": [
      "+---+----+-----------+--------+---+----+\n",
      "|map|ndcg|ndcg_cut_10|ndcg_rel|qid|date|\n",
      "+---+----+-----------+--------+---+----+\n",
      "+---+----+-----------+--------+---+----+\n",
      "\n"
     ]
    }
   ],
   "source": [
    "evaluation.where(\"map > 0\").show()"
   ]
  }
 ],
 "metadata": {
  "kernelspec": {
   "display_name": ".venv",
   "language": "python",
   "name": "python3"
  },
  "language_info": {
   "codemirror_mode": {
    "name": "ipython",
    "version": 3
   },
   "file_extension": ".py",
   "mimetype": "text/x-python",
   "name": "python",
   "nbconvert_exporter": "python",
   "pygments_lexer": "ipython3",
   "version": "3.10.10"
  }
 },
 "nbformat": 4,
 "nbformat_minor": 5
}
