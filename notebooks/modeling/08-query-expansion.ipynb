{
 "cells": [
  {
   "cell_type": "code",
   "execution_count": 2,
   "id": "75716de7",
   "metadata": {},
   "outputs": [
    {
     "name": "stderr",
     "output_type": "stream",
     "text": [
      "25/05/26 01:09:36 WARN SparkSession: Using an existing Spark session; only runtime SQL configurations will take effect.\n"
     ]
    },
    {
     "name": "stdout",
     "output_type": "stream",
     "text": [
      "root\n",
      " |-- qid: string (nullable = true)\n",
      " |-- query: string (nullable = true)\n",
      " |-- split: string (nullable = true)\n",
      " |-- language: string (nullable = true)\n",
      " |-- date: string (nullable = true)\n",
      "\n"
     ]
    }
   ],
   "source": [
    "from longeval.spark import get_spark\n",
    "from pathlib import Path\n",
    "from longeval.collection import ParquetCollection\n",
    "\n",
    "spark = get_spark(cores=8, memory=\"20g\")\n",
    "\n",
    "root = Path(\"~/shared/longeval/2025/parquet\").expanduser()\n",
    "train = ParquetCollection(spark, (root / \"train\").as_posix())\n",
    "test = ParquetCollection(spark, (root / \"test\").as_posix())\n",
    "queries = train.queries.union(test.queries).cache()\n",
    "queries.printSchema()"
   ]
  },
  {
   "cell_type": "code",
   "execution_count": 3,
   "id": "d0a6a8c8",
   "metadata": {},
   "outputs": [
    {
     "name": "stderr",
     "output_type": "stream",
     "text": [
      "                                                                                \r"
     ]
    },
    {
     "data": {
      "text/plain": [
       "67822"
      ]
     },
     "execution_count": 3,
     "metadata": {},
     "output_type": "execute_result"
    }
   ],
   "source": [
    "queries.select(\"qid\").distinct().count()"
   ]
  },
  {
   "cell_type": "code",
   "execution_count": 7,
   "id": "e577c722",
   "metadata": {},
   "outputs": [
    {
     "name": "stdout",
     "output_type": "stream",
     "text": [
      "+-------+---+------------------------+\n",
      "|date   |qid|query                   |\n",
      "+-------+---+------------------------+\n",
      "|2022-08|2  |18 videoz               |\n",
      "|2022-08|3  |1ere guerre mondiale    |\n",
      "|2022-08|7  |3949 pole emploi        |\n",
      "|2022-08|8  |4 mariages 1 enterrement|\n",
      "|2022-08|10 |a vendre chateau        |\n",
      "+-------+---+------------------------+\n",
      "only showing top 5 rows\n"
     ]
    }
   ],
   "source": [
    "queries.select(\"date\", \"qid\", \"query\").show(truncate=False, n=5)"
   ]
  },
  {
   "cell_type": "code",
   "execution_count": 10,
   "id": "06067e9b",
   "metadata": {},
   "outputs": [
    {
     "name": "stdout",
     "output_type": "stream",
     "text": [
      "+-----+-----+\n",
      "|count|count|\n",
      "+-----+-----+\n",
      "|    1|19327|\n",
      "|    2| 8804|\n",
      "|    3|25632|\n",
      "|    4| 3357|\n",
      "|    5| 2340|\n",
      "|    6| 1704|\n",
      "|    7| 1399|\n",
      "|    8| 1042|\n",
      "|    9|  910|\n",
      "|   10|  768|\n",
      "|   11|  611|\n",
      "|   12|  448|\n",
      "|   13|  414|\n",
      "|   14|  459|\n",
      "|   15|  607|\n",
      "+-----+-----+\n",
      "\n"
     ]
    }
   ],
   "source": [
    "# how many duplicate queries?\n",
    "queries.groupBy(\"qid\").count().groupBy(\"count\").count().orderBy(\"count\").show()"
   ]
  },
  {
   "cell_type": "code",
   "execution_count": 17,
   "id": "a136857e",
   "metadata": {},
   "outputs": [
    {
     "name": "stdout",
     "output_type": "stream",
     "text": [
      "+---+-----------------+-----+--------+-------+\n",
      "|qid|            query|split|language|   date|\n",
      "+---+-----------------+-----+--------+-------+\n",
      "|100|appli pole emploi|train|  French|2022-08|\n",
      "|100|appli pole emploi|train|  French|2022-07|\n",
      "|100|appli pole emploi|train|  French|2022-06|\n",
      "|100|appli pole emploi|train|  French|2023-01|\n",
      "|100|appli pole emploi|train|  French|2022-12|\n",
      "|100|appli pole emploi|train|  French|2022-11|\n",
      "|100|appli pole emploi|train|  French|2022-10|\n",
      "|100|appli pole emploi|train|  French|2023-02|\n",
      "|100|appli pole emploi|train|  French|2022-09|\n",
      "|100|appli pole emploi| test|  French|2023-08|\n",
      "|100|appli pole emploi| test|  French|2023-05|\n",
      "|100|appli pole emploi| test|  French|2023-07|\n",
      "|100|appli pole emploi| test|  French|2023-06|\n",
      "+---+-----------------+-----+--------+-------+\n",
      "\n"
     ]
    }
   ],
   "source": [
    "queries.where(\"qid=100\").show()"
   ]
  },
  {
   "cell_type": "code",
   "execution_count": null,
   "id": "3a138f54",
   "metadata": {},
   "outputs": [
    {
     "data": {
      "text/plain": [
       "[Row(qid='2', query='18 videoz'),\n",
       " Row(qid='3', query='1ere guerre mondiale'),\n",
       " Row(qid='4', query='1ere guerre mondiale ce2'),\n",
       " Row(qid='5', query='2 guerre mondial'),\n",
       " Row(qid='6', query='2 eme guerre mondiale')]"
      ]
     },
     "execution_count": 23,
     "metadata": {},
     "output_type": "execute_result"
    }
   ],
   "source": [
    "from pyspark.sql import functions as F\n",
    "\n",
    "deduped = (\n",
    "    queries.groupBy(\"qid\")\n",
    "    .agg(F.first(\"query\").alias(\"query\"))\n",
    "    .orderBy(F.col(\"qid\").cast(\"integer\"))\n",
    "    .cache()\n",
    ")\n",
    "deduped.take(5)"
   ]
  },
  {
   "cell_type": "code",
   "execution_count": null,
   "id": "6801f1a0",
   "metadata": {},
   "outputs": [
    {
     "data": {
      "text/plain": [
       "[{'qid': '2',\n",
       "  'query': '18 vidéos clips courts tutoriels explicatifs didactiques documentaires cours chaîne formation module série collection épisodes HD 4K'},\n",
       " {'qid': '3',\n",
       "  'query': 'Première Guerre Mondiale Grande Guerre 1914-1918 conflit mondial combats tranchées poilus batailles histoire causes conséquences traité de Versailles armistice'},\n",
       " {'qid': '4',\n",
       "  'query': 'Première Guerre Mondiale CE2 cours leçon histoire pour enfants primaire cycle 2 explication facile résumé quiz exercices ressources pédagogiques école'},\n",
       " {'qid': '5',\n",
       "  'query': 'Deuxième Guerre Mondiale Seconde Guerre Mondiale 1939-1945 conflit mondial nazisme Alliés Axe camps de concentration résistance débarquement bataille de Normandie'},\n",
       " {'qid': '6',\n",
       "  'query': 'Deuxième Guerre Mondiale leçons histoire causes événements conséquences principaux acteurs Hitler Staline Churchill alliances batailles clés Hiroshima Nagasaki capitulation'}]"
      ]
     },
     "execution_count": 43,
     "metadata": {},
     "output_type": "execute_result"
    }
   ],
   "source": [
    "import os\n",
    "import requests\n",
    "import dotenv\n",
    "import json\n",
    "\n",
    "dotenv.load_dotenv(\"../../.env\")\n",
    "# let's choose the longest query and query expand with openrouter\n",
    "\n",
    "\n",
    "def get_schema():\n",
    "    return {\n",
    "        \"type\": \"array\",\n",
    "        \"items\": {\n",
    "            \"type\": \"object\",\n",
    "            \"properties\": {\n",
    "                \"qid\": {\n",
    "                    \"type\": \"string\",\n",
    "                    \"description\": \"The unique identifier for the query.\",\n",
    "                },\n",
    "                \"query\": {\n",
    "                    \"type\": \"string\",\n",
    "                    \"description\": \"The text of the query.\",\n",
    "                },\n",
    "            },\n",
    "            \"required\": [\"qid\", \"query\"],\n",
    "            \"additionalProperties\": False,\n",
    "        },\n",
    "    }\n",
    "\n",
    "\n",
    "def prompt(queries):\n",
    "    query_text = \"\\n\".join([f\"{row['qid']}: {row['query']}\" for row in queries])\n",
    "    return f\"\"\"{query_text}\n",
    "\n",
    "    For each query above, generate a query expansion in French that includes additional relevant terms or phrases.\n",
    "    The query expansion should be no more than 100 words long.\n",
    "    The query engine relies on BM25 and vector search techniques in French.\n",
    "    The output should be a JSON array of objects, each containing the original 'qid' and the expanded 'query'.\n",
    "    \"\"\"\n",
    "\n",
    "\n",
    "def chat_complete(\n",
    "    queries,\n",
    "    api_key=os.environ.get(\"OPENROUTER_API_KEY\"),\n",
    "    model=\"google/gemini-2.5-flash-preview-05-20\",\n",
    "    # model=\"google/gemma-3n-e4b-it:free\",\n",
    "):\n",
    "    completion = requests.post(\n",
    "        \"https://openrouter.ai/api/v1/chat/completions\",\n",
    "        headers={\n",
    "            \"Authorization\": f\"Bearer {api_key}\",\n",
    "            \"Content-Type\": \"application/json\",\n",
    "        },\n",
    "        json=dict(\n",
    "            model=model,\n",
    "            messages=[\n",
    "                {\"role\": \"user\", \"content\": [{\"type\": \"text\", \"text\": prompt(queries)}]}\n",
    "            ],\n",
    "            # object with predict list of strings and a reason sting\n",
    "            response_format={\n",
    "                \"type\": \"json_schema\",\n",
    "                \"json_schema\": {\n",
    "                    \"name\": \"longeval\",\n",
    "                    \"strict\": True,\n",
    "                    \"schema\": get_schema(),\n",
    "                },\n",
    "            },\n",
    "        ),\n",
    "    )\n",
    "    return completion.json()\n",
    "\n",
    "\n",
    "def query_expansion(queries, output):\n",
    "    # add the response to a logfile\n",
    "    output = Path(output).expanduser()\n",
    "    logfile = Path(output) / \"completion/log.txt\"\n",
    "    # name is start-end range\n",
    "    start = queries[0][\"qid\"]\n",
    "    end = queries[-1][\"qid\"]\n",
    "    output = Path(output) / f\"expansion/{start}-{end}.json\"\n",
    "    if output.exists():\n",
    "        print(f\"Output file {output} already exists, skipping.\")\n",
    "        return\n",
    "    logfile.parent.mkdir(parents=True, exist_ok=True)\n",
    "    output.parent.mkdir(parents=True, exist_ok=True)\n",
    "\n",
    "    resp = chat_complete(queries)\n",
    "    with logfile.open(\"a\") as f:\n",
    "        f.write(json.dumps(resp) + \"\\n\")\n",
    "\n",
    "    data = json.loads(resp[\"choices\"][0][\"message\"][\"content\"])\n",
    "    # check that all of the quids are present\n",
    "    input_qids = {q[\"qid\"] for q in queries}\n",
    "    output_qids = {d[\"qid\"] for d in data}\n",
    "    if input_qids != output_qids:\n",
    "        raise ValueError(\"Input and output qids do not match.\")\n",
    "\n",
    "    # write the output to a file\n",
    "    with output.open(\"w\") as f:\n",
    "        json.dump(data, f, indent=2)\n",
    "\n",
    "    # return the data\n",
    "    return data\n",
    "\n",
    "\n",
    "resp = query_expansion(deduped.take(5), \"~/scratch/longeval/query_expansion_tmp\")\n",
    "resp"
   ]
  },
  {
   "cell_type": "code",
   "execution_count": null,
   "id": "f8d95d52",
   "metadata": {},
   "outputs": [],
   "source": [
    "# okay let's do this in batches of 1000, until we reach the end of the dataset\n",
    "import tqdm\n",
    "\n",
    "batch_size = 100\n",
    "deduped_rows = deduped.collect()\n",
    "for i in tqdm.tqdm(range(0, len(deduped_rows), batch_size)):\n",
    "    batch = deduped_rows[i : i + batch_size]\n",
    "    try:\n",
    "        query_expansion(batch, \"~/scratch/longeval/query_expansion\")\n",
    "    except Exception as e:\n",
    "        print(f\"Error processing batch {i}-{i + batch_size}: {e}\")\n",
    "        continue"
   ]
  }
 ],
 "metadata": {
  "kernelspec": {
   "display_name": ".venv",
   "language": "python",
   "name": "python3"
  },
  "language_info": {
   "codemirror_mode": {
    "name": "ipython",
    "version": 3
   },
   "file_extension": ".py",
   "mimetype": "text/x-python",
   "name": "python",
   "nbconvert_exporter": "python",
   "pygments_lexer": "ipython3",
   "version": "3.10.10"
  }
 },
 "nbformat": 4,
 "nbformat_minor": 5
}
