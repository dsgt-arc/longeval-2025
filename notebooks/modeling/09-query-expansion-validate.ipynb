{
 "cells": [
  {
   "cell_type": "code",
   "execution_count": 1,
   "id": "75716de7",
   "metadata": {},
   "outputs": [
    {
     "name": "stderr",
     "output_type": "stream",
     "text": [
      "WARNING: Using incubator modules: jdk.incubator.vector\n",
      "Using Spark's default log4j profile: org/apache/spark/log4j2-defaults.properties\n",
      "Setting default log level to \"WARN\".\n",
      "To adjust logging level use sc.setLogLevel(newLevel). For SparkR, use setLogLevel(newLevel).\n",
      "25/05/26 05:53:25 WARN NativeCodeLoader: Unable to load native-hadoop library for your platform... using builtin-java classes where applicable\n",
      "25/05/26 05:53:25 WARN SparkConf: Note that spark.local.dir will be overridden by the value set by the cluster manager (via SPARK_LOCAL_DIRS in standalone/kubernetes and LOCAL_DIRS in YARN).\n",
      "25/05/26 05:53:27 WARN Utils: Service 'SparkUI' could not bind on port 4040. Attempting port 4041.\n",
      "                                                                                \r"
     ]
    },
    {
     "name": "stdout",
     "output_type": "stream",
     "text": [
      "root\n",
      " |-- qid: string (nullable = true)\n",
      " |-- query: string (nullable = true)\n",
      " |-- split: string (nullable = true)\n",
      " |-- language: string (nullable = true)\n",
      " |-- date: string (nullable = true)\n",
      "\n"
     ]
    }
   ],
   "source": [
    "from longeval.spark import get_spark\n",
    "from pathlib import Path\n",
    "from longeval.collection import ParquetCollection\n",
    "\n",
    "spark = get_spark(cores=8, memory=\"20g\")\n",
    "\n",
    "root = Path(\"~/shared/longeval/2025/parquet\").expanduser()\n",
    "train = ParquetCollection(spark, (root / \"train\").as_posix())\n",
    "test = ParquetCollection(spark, (root / \"test\").as_posix())\n",
    "queries = train.queries.union(test.queries).cache()\n",
    "queries.printSchema()"
   ]
  },
  {
   "cell_type": "code",
   "execution_count": 4,
   "id": "decad460",
   "metadata": {},
   "outputs": [
    {
     "name": "stderr",
     "output_type": "stream",
     "text": [
      "[Stage 5:>                                                          (0 + 1) / 1]\r"
     ]
    },
    {
     "name": "stdout",
     "output_type": "stream",
     "text": [
      "root\n",
      " |-- qid: string (nullable = true)\n",
      " |-- query: string (nullable = true)\n",
      "\n"
     ]
    },
    {
     "name": "stderr",
     "output_type": "stream",
     "text": [
      "                                                                                \r"
     ]
    }
   ],
   "source": [
    "expanded = spark.read.json(\n",
    "    Path(\"~/scratch/longeval/query_expansion/expansion\").expanduser().as_posix(),\n",
    "    multiLine=True,\n",
    ").cache()\n",
    "expanded.printSchema()"
   ]
  },
  {
   "cell_type": "code",
   "execution_count": 5,
   "id": "8208d517",
   "metadata": {},
   "outputs": [
    {
     "name": "stdout",
     "output_type": "stream",
     "text": [
      "+-----+--------------------+\n",
      "|  qid|               query|\n",
      "+-----+--------------------+\n",
      "|57776|taxe archeologie ...|\n",
      "|57777|terre azur, produ...|\n",
      "|57778|terre de compta, ...|\n",
      "|57779|terreau semis, co...|\n",
      "|57780|total energies cl...|\n",
      "|57781|tram aeroport bor...|\n",
      "|57782|triploidie, genet...|\n",
      "|57783|vente bateau semi...|\n",
      "|57784|verif impots.gouv...|\n",
      "|57785|vhf bateau, radio...|\n",
      "|57786|voiture ecologiqu...|\n",
      "|57787|voiture hybride l...|\n",
      "|57788|voiture occasion ...|\n",
      "|57789|voiture occasion ...|\n",
      "|57790|voiture electriqu...|\n",
      "|57791|2001 odyssee de l...|\n",
      "|57794|ajouter qwant au ...|\n",
      "|57795|aleop loire atlan...|\n",
      "|57796|aller a minorque ...|\n",
      "|57797|amicaleloirebreta...|\n",
      "+-----+--------------------+\n",
      "only showing top 20 rows\n"
     ]
    }
   ],
   "source": [
    "expanded.show()"
   ]
  },
  {
   "cell_type": "code",
   "execution_count": 6,
   "id": "39260b90",
   "metadata": {},
   "outputs": [
    {
     "name": "stderr",
     "output_type": "stream",
     "text": [
      "                                                                                \r"
     ]
    },
    {
     "data": {
      "text/plain": [
       "(67822, 67822)"
      ]
     },
     "execution_count": 6,
     "metadata": {},
     "output_type": "execute_result"
    }
   ],
   "source": [
    "queries.select(\"qid\").distinct().count(), expanded.select(\"qid\").distinct().count()"
   ]
  },
  {
   "cell_type": "code",
   "execution_count": 14,
   "id": "685ef969",
   "metadata": {},
   "outputs": [
    {
     "name": "stdout",
     "output_type": "stream",
     "text": [
      "+-------+------------------+-------------------------------+-----------------------------------+\n",
      "|summary|               qid|array_size(split(query,  , -1))|array_size(split(expansion,  , -1))|\n",
      "+-------+------------------+-------------------------------+-----------------------------------+\n",
      "|  count|            216789|                         216789|                             216789|\n",
      "|   mean|29130.835494420844|             3.0775454474166124|                  17.89479632269165|\n",
      "| stddev|21604.085727908263|             2.9017716522035277|                 26.240892518913782|\n",
      "|    min|                10|                              1|                                  1|\n",
      "|    max|              9999|                            954|                               2926|\n",
      "+-------+------------------+-------------------------------+-----------------------------------+\n",
      "\n"
     ]
    },
    {
     "name": "stderr",
     "output_type": "stream",
     "text": [
      "                                                                                \r"
     ]
    }
   ],
   "source": [
    "from pyspark.sql import functions as F\n",
    "\n",
    "queries.join(\n",
    "    expanded.selectExpr(\"qid\", \"query as expansion\"), on=\"qid\", how=\"inner\"\n",
    ").select(\n",
    "    \"qid\",\n",
    "    F.array_size(F.split(\"query\", \" \")),\n",
    "    F.array_size(F.split(\"expansion\", \" \")),\n",
    ").describe().show()"
   ]
  }
 ],
 "metadata": {
  "kernelspec": {
   "display_name": ".venv",
   "language": "python",
   "name": "python3"
  },
  "language_info": {
   "codemirror_mode": {
    "name": "ipython",
    "version": 3
   },
   "file_extension": ".py",
   "mimetype": "text/x-python",
   "name": "python",
   "nbconvert_exporter": "python",
   "pygments_lexer": "ipython3",
   "version": "3.10.10"
  }
 },
 "nbformat": 4,
 "nbformat_minor": 5
}
