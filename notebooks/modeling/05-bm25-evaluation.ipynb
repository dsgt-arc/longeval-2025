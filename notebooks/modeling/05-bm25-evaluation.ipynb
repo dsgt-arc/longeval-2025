{
 "cells": [
  {
   "cell_type": "code",
   "execution_count": 5,
   "id": "ad2e10e9",
   "metadata": {},
   "outputs": [
    {
     "name": "stderr",
     "output_type": "stream",
     "text": [
      "25/04/20 13:18:20 WARN SparkSession: Using an existing Spark session; only runtime SQL configurations will take effect.\n"
     ]
    }
   ],
   "source": [
    "from longeval.spark import get_spark\n",
    "from pathlib import Path\n",
    "from pyspark.sql import functions as F\n",
    "\n",
    "spark = get_spark(cores=8, memory=\"15g\")"
   ]
  },
  {
   "cell_type": "code",
   "execution_count": 2,
   "id": "4e80f6cf",
   "metadata": {},
   "outputs": [
    {
     "name": "stdout",
     "output_type": "stream",
     "text": [
      "root\n",
      " |-- map: double (nullable = true)\n",
      " |-- ndcg: double (nullable = true)\n",
      " |-- ndcg_cut_10: double (nullable = true)\n",
      " |-- ndcg_rel: double (nullable = true)\n",
      " |-- qid: string (nullable = true)\n",
      " |-- date: string (nullable = true)\n",
      "\n"
     ]
    }
   ],
   "source": [
    "root = Path(\"~/shared/longeval\").expanduser().as_posix()\n",
    "df = spark.read.parquet(f\"{root}/2025/bm25/evaluation\")\n",
    "df.printSchema()"
   ]
  },
  {
   "cell_type": "code",
   "execution_count": 8,
   "id": "75909b74",
   "metadata": {},
   "outputs": [
    {
     "name": "stdout",
     "output_type": "stream",
     "text": [
      "+---+----+-----------+--------+-----+-------+\n",
      "|map|ndcg|ndcg_cut_10|ndcg_rel|  qid|   date|\n",
      "+---+----+-----------+--------+-----+-------+\n",
      "|0.0| 0.0|        0.0|     0.0|10010|2023-01|\n",
      "|0.0| 0.0|        0.0|     0.0| 1008|2023-01|\n",
      "|0.0| 0.0|        0.0|     0.0|10088|2023-01|\n",
      "|0.0| 0.0|        0.0|     0.0|10096|2023-01|\n",
      "|0.0| 0.0|        0.0|     0.0|  101|2023-01|\n",
      "|0.0| 0.0|        0.0|     0.0|10104|2023-01|\n",
      "|0.0| 0.0|        0.0|     0.0|10124|2023-01|\n",
      "|0.0| 0.0|        0.0|     0.0|10133|2023-01|\n",
      "|0.0| 0.0|        0.0|     0.0|10138|2023-01|\n",
      "|0.0| 0.0|        0.0|     0.0|10177|2023-01|\n",
      "|0.0| 0.0|        0.0|     0.0|10178|2023-01|\n",
      "|0.0| 0.0|        0.0|     0.0|10179|2023-01|\n",
      "|0.0| 0.0|        0.0|     0.0|10195|2023-01|\n",
      "|0.0| 0.0|        0.0|     0.0| 1021|2023-01|\n",
      "|0.0| 0.0|        0.0|     0.0|10250|2023-01|\n",
      "|0.0| 0.0|        0.0|     0.0|10294|2023-01|\n",
      "|0.0| 0.0|        0.0|     0.0|10346|2023-01|\n",
      "|0.0| 0.0|        0.0|     0.0|10351|2023-01|\n",
      "|0.0| 0.0|        0.0|     0.0|10381|2023-01|\n",
      "|0.0| 0.0|        0.0|     0.0|10392|2023-01|\n",
      "+---+----+-----------+--------+-----+-------+\n",
      "only showing top 20 rows\n",
      "\n"
     ]
    }
   ],
   "source": [
    "df.show()"
   ]
  },
  {
   "cell_type": "code",
   "execution_count": 9,
   "id": "121664fd",
   "metadata": {},
   "outputs": [
    {
     "name": "stdout",
     "output_type": "stream",
     "text": [
      "+-------+---------+\n",
      "|date   |max(ndcg)|\n",
      "+-------+---------+\n",
      "|2022-06|0.0      |\n",
      "|2022-07|0.0      |\n",
      "|2022-08|0.0      |\n",
      "|2022-09|0.0      |\n",
      "|2022-10|0.0      |\n",
      "|2022-11|0.0      |\n",
      "|2022-12|0.0      |\n",
      "|2023-01|0.0      |\n",
      "|2023-02|0.0      |\n",
      "+-------+---------+\n",
      "\n"
     ]
    }
   ],
   "source": [
    "df.groupBy(\"date\").agg(F.max(\"ndcg\")).orderBy(\"date\").show(100, False)"
   ]
  }
 ],
 "metadata": {
  "kernelspec": {
   "display_name": ".venv",
   "language": "python",
   "name": "python3"
  },
  "language_info": {
   "codemirror_mode": {
    "name": "ipython",
    "version": 3
   },
   "file_extension": ".py",
   "mimetype": "text/x-python",
   "name": "python",
   "nbconvert_exporter": "python",
   "pygments_lexer": "ipython3",
   "version": "3.10.10"
  }
 },
 "nbformat": 4,
 "nbformat_minor": 5
}
