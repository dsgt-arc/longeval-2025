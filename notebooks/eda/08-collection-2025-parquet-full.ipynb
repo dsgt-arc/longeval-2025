{
 "cells": [
  {
   "cell_type": "code",
   "execution_count": 1,
   "metadata": {},
   "outputs": [
    {
     "name": "stderr",
     "output_type": "stream",
     "text": [
      "Setting default log level to \"WARN\".\n",
      "To adjust logging level use sc.setLogLevel(newLevel). For SparkR, use setLogLevel(newLevel).\n",
      "25/05/25 00:50:48 WARN NativeCodeLoader: Unable to load native-hadoop library for your platform... using builtin-java classes where applicable\n",
      "25/05/25 00:50:48 WARN SparkConf: Note that spark.local.dir will be overridden by the value set by the cluster manager (via SPARK_LOCAL_DIRS in mesos/standalone/kubernetes and LOCAL_DIRS in YARN).\n"
     ]
    }
   ],
   "source": [
    "%load_ext autoreload\n",
    "%autoreload 2\n",
    "from longeval.spark import get_spark\n",
    "\n",
    "spark = get_spark(cores=8, memory=\"28g\")"
   ]
  },
  {
   "cell_type": "code",
   "execution_count": 2,
   "metadata": {},
   "outputs": [
    {
     "name": "stdout",
     "output_type": "stream",
     "text": [
      "root\n",
      " |-- contents: string (nullable = true)\n",
      " |-- docid: string (nullable = true)\n",
      " |-- split: string (nullable = true)\n",
      " |-- language: string (nullable = true)\n",
      " |-- date: string (nullable = true)\n",
      "\n"
     ]
    }
   ],
   "source": [
    "from longeval.collection import ParquetCollection\n",
    "from pathlib import Path\n",
    "\n",
    "data_root = Path(\"~/shared/longeval/2025/parquet/\").expanduser()\n",
    "train = ParquetCollection(spark, data_root / \"train\")\n",
    "train.documents.printSchema()"
   ]
  },
  {
   "cell_type": "code",
   "execution_count": 3,
   "metadata": {},
   "outputs": [
    {
     "name": "stdout",
     "output_type": "stream",
     "text": [
      "root\n",
      " |-- contents: string (nullable = true)\n",
      " |-- docid: string (nullable = true)\n",
      " |-- split: string (nullable = true)\n",
      " |-- language: string (nullable = true)\n",
      " |-- date: string (nullable = true)\n",
      "\n"
     ]
    }
   ],
   "source": [
    "test = ParquetCollection(spark, data_root / \"test\")\n",
    "test.documents.printSchema()"
   ]
  },
  {
   "cell_type": "code",
   "execution_count": 7,
   "metadata": {},
   "outputs": [
    {
     "name": "stderr",
     "output_type": "stream",
     "text": [
      "[Stage 22:===================================================>      (8 + 1) / 9]\r"
     ]
    },
    {
     "name": "stdout",
     "output_type": "stream",
     "text": [
      "+-----+-------+---+------+\n",
      "|split|   date|  n|  freq|\n",
      "+-----+-------+---+------+\n",
      "| test|2023-03|  2|212342|\n",
      "| test|2023-03|  3| 70942|\n",
      "| test|2023-03|  4| 25630|\n",
      "| test|2023-03|  5|  8785|\n",
      "| test|2023-03|  6|  2838|\n",
      "| test|2023-03|  7|   725|\n",
      "| test|2023-03|  8|   223|\n",
      "| test|2023-03|  9|    75|\n",
      "| test|2023-03| 10|    26|\n",
      "| test|2023-03| 11|     5|\n",
      "| test|2023-03| 12|     1|\n",
      "| test|2023-03| 13|     1|\n",
      "| test|2023-03| 15|     1|\n",
      "| test|2023-03| 28|     1|\n",
      "| test|2023-04|  2|206784|\n",
      "| test|2023-04|  3| 67915|\n",
      "| test|2023-04|  4| 24136|\n",
      "| test|2023-04|  5|  8031|\n",
      "| test|2023-04|  6|  2493|\n",
      "| test|2023-04|  7|   668|\n",
      "+-----+-------+---+------+\n",
      "only showing top 20 rows\n",
      "\n"
     ]
    },
    {
     "name": "stderr",
     "output_type": "stream",
     "text": [
      "                                                                                \r"
     ]
    }
   ],
   "source": [
    "# let's determine how many duplicate documents we have\n",
    "from pyspark.sql import functions as F\n",
    "\n",
    "(\n",
    "    (train.documents.union(test.documents))\n",
    "    .groupBy(\"split\", \"date\", \"docid\")\n",
    "    .agg(F.count(\"*\").alias(\"n\"))\n",
    "    .where(F.count(\"*\") > 1)\n",
    "    .groupBy(\"split\", \"date\", \"n\")\n",
    "    .agg(F.count(\"*\").alias(\"freq\"))\n",
    "    .orderBy(\"split\", \"date\", \"n\")\n",
    ").show()"
   ]
  },
  {
   "cell_type": "code",
   "execution_count": 17,
   "metadata": {},
   "outputs": [
    {
     "name": "stderr",
     "output_type": "stream",
     "text": [
      "[Stage 134:==================================================>      (8 + 1) / 9]\r"
     ]
    },
    {
     "name": "stdout",
     "output_type": "stream",
     "text": [
      "+---+--------------+--------------+-------------+-------------+\n",
      "|  n|train_avg_freq|train_std_freq|test_avg_freq|test_std_freq|\n",
      "+---+--------------+--------------+-------------+-------------+\n",
      "|  1|       1592567|        297225|      1643971|       181625|\n",
      "|  2|        158678|         51089|       198806|        30419|\n",
      "|  3|         40312|         23807|        64502|        14372|\n",
      "|  4|         12405|         10174|        22669|         6487|\n",
      "|  5|          4002|          3694|         7577|         2638|\n",
      "|  6|          1200|          1234|         2382|          917|\n",
      "|  7|           300|           321|          616|          257|\n",
      "|  8|            94|            98|          185|           79|\n",
      "|  9|            31|            34|           63|           27|\n",
      "| 10|            18|             5|           21|            9|\n",
      "| 11|             3|             2|            5|            0|\n",
      "| 12|             1|             0|            1|            0|\n",
      "| 13|             1|             0|            1|            0|\n",
      "| 14|          NULL|          NULL|            1|         NULL|\n",
      "| 15|          NULL|          NULL|            1|            0|\n",
      "| 16|             1|             0|         NULL|         NULL|\n",
      "| 17|             1|             0|         NULL|         NULL|\n",
      "| 21|             2|             0|         NULL|         NULL|\n",
      "| 22|             1|             0|         NULL|         NULL|\n",
      "| 23|             1|             0|         NULL|         NULL|\n",
      "+---+--------------+--------------+-------------+-------------+\n",
      "only showing top 20 rows\n",
      "\n"
     ]
    },
    {
     "name": "stderr",
     "output_type": "stream",
     "text": [
      "                                                                                \r"
     ]
    }
   ],
   "source": [
    "# what's the total number of duplicate documents?\n",
    "(\n",
    "    (train.documents.union(test.documents))\n",
    "    .groupBy(\"split\", \"date\", \"docid\")\n",
    "    .agg(F.count(\"*\").alias(\"n\"))\n",
    "    .groupBy(\"split\", \"date\", \"n\")\n",
    "    .agg(F.count(\"*\").alias(\"freq\"))\n",
    "    # now pivot on split\n",
    "    .groupBy(\"n\")\n",
    "    .pivot(\"split\", [\"train\", \"test\"])\n",
    "    .agg(\n",
    "        F.avg(\"freq\").cast(\"integer\").alias(\"avg_freq\"),\n",
    "        F.std(\"freq\").cast(\"integer\").alias(\"std_freq\"),\n",
    "    )\n",
    "    .orderBy(\"n\")\n",
    ").show()"
   ]
  },
  {
   "cell_type": "code",
   "execution_count": 14,
   "metadata": {},
   "outputs": [
    {
     "name": "stderr",
     "output_type": "stream",
     "text": [
      "[Stage 97:=====================================================>(497 + 1) / 498]\r"
     ]
    },
    {
     "name": "stdout",
     "output_type": "stream",
     "text": [
      "-RECORD 0--------------------------------------------------------------------------------------------------------\n",
      " docid    | doc10                                                                                                \n",
      " contents | WWW.SAURCLIENT.FR ESPACE CLIENT WWW.SAURCLIENT.FR ESPACE CLIENT WWW.SAURCLIENT.FR ESPACE CLIENT L... \n",
      " split    | train                                                                                                \n",
      " language | French                                                                                               \n",
      " date     | 2023-02                                                                                              \n",
      " n        | 9                                                                                                    \n",
      "-RECORD 1--------------------------------------------------------------------------------------------------------\n",
      " docid    | doc10                                                                                                \n",
      " contents | WWW.SAURCLIENT.FR ESPACE CLIENT WWW.SAURCLIENT.FR ESPACE CLIENT WWW.SAURCLIENT.FR ESPACE CLIENT L... \n",
      " split    | train                                                                                                \n",
      " language | French                                                                                               \n",
      " date     | 2022-10                                                                                              \n",
      " n        | 9                                                                                                    \n",
      "-RECORD 2--------------------------------------------------------------------------------------------------------\n",
      " docid    | doc10                                                                                                \n",
      " contents | WWW.SAURCLIENT.FR ESPACE CLIENT WWW.SAURCLIENT.FR ESPACE CLIENT WWW.SAURCLIENT.FR ESPACE CLIENT L... \n",
      " split    | train                                                                                                \n",
      " language | French                                                                                               \n",
      " date     | 2022-11                                                                                              \n",
      " n        | 9                                                                                                    \n",
      "-RECORD 3--------------------------------------------------------------------------------------------------------\n",
      " docid    | doc10                                                                                                \n",
      " contents | WWW.SAURCLIENT.FR ESPACE CLIENT WWW.SAURCLIENT.FR ESPACE CLIENT WWW.SAURCLIENT.FR ESPACE CLIENT L... \n",
      " split    | train                                                                                                \n",
      " language | French                                                                                               \n",
      " date     | 2023-01                                                                                              \n",
      " n        | 9                                                                                                    \n",
      "-RECORD 4--------------------------------------------------------------------------------------------------------\n",
      " docid    | doc10                                                                                                \n",
      " contents | WWW.SAURCLIENT.FR ESPACE CLIENT WWW.SAURCLIENT.FR ESPACE CLIENT WWW.SAURCLIENT.FR ESPACE CLIENT L... \n",
      " split    | train                                                                                                \n",
      " language | French                                                                                               \n",
      " date     | 2022-12                                                                                              \n",
      " n        | 9                                                                                                    \n",
      "-RECORD 5--------------------------------------------------------------------------------------------------------\n",
      " docid    | doc10                                                                                                \n",
      " contents | WWW.SAURCLIENT.FR ESPACE CLIENT WWW.SAURCLIENT.FR ESPACE CLIENT WWW.SAURCLIENT.FR ESPACE CLIENT L... \n",
      " split    | train                                                                                                \n",
      " language | French                                                                                               \n",
      " date     | 2022-09                                                                                              \n",
      " n        | 9                                                                                                    \n",
      "-RECORD 6--------------------------------------------------------------------------------------------------------\n",
      " docid    | doc10                                                                                                \n",
      " contents | WWW.SAURCLIENT.FR ESPACE CLIENT WWW.SAURCLIENT.FR ESPACE CLIENT WWW.SAURCLIENT.FR ESPACE CLIENT L... \n",
      " split    | train                                                                                                \n",
      " language | French                                                                                               \n",
      " date     | 2022-08                                                                                              \n",
      " n        | 9                                                                                                    \n",
      "-RECORD 7--------------------------------------------------------------------------------------------------------\n",
      " docid    | doc10                                                                                                \n",
      " contents | WWW.SAURCLIENT.FR ESPACE CLIENT WWW.SAURCLIENT.FR ESPACE CLIENT WWW.SAURCLIENT.FR ESPACE CLIENT L... \n",
      " split    | train                                                                                                \n",
      " language | French                                                                                               \n",
      " date     | 2022-07                                                                                              \n",
      " n        | 9                                                                                                    \n",
      "-RECORD 8--------------------------------------------------------------------------------------------------------\n",
      " docid    | doc10                                                                                                \n",
      " contents | WWW.SAURCLIENT.FR ESPACE CLIENT WWW.SAURCLIENT.FR ESPACE CLIENT WWW.SAURCLIENT.FR ESPACE CLIENT L... \n",
      " split    | train                                                                                                \n",
      " language | French                                                                                               \n",
      " date     | 2022-06                                                                                              \n",
      " n        | 9                                                                                                    \n",
      "\n"
     ]
    },
    {
     "name": "stderr",
     "output_type": "stream",
     "text": [
      "                                                                                \r"
     ]
    }
   ],
   "source": [
    "# let's choose a document that shows up more than 3 times, and then see what the differences are between documents\n",
    "duplicate = (\n",
    "    train.documents.groupBy(\"docid\")\n",
    "    .agg(F.count(\"*\").alias(\"n\"))\n",
    "    .where(F.col(\"n\") > 3)\n",
    "    .orderBy(\"docid\")\n",
    "    .limit(1)\n",
    ")\n",
    "train.documents.join(duplicate, \"docid\").show(truncate=100, vertical=True)"
   ]
  },
  {
   "cell_type": "code",
   "execution_count": null,
   "metadata": {},
   "outputs": [
    {
     "name": "stderr",
     "output_type": "stream",
     "text": [
      "[Stage 110:====================================================>(490 + 8) / 498]\r"
     ]
    },
    {
     "name": "stdout",
     "output_type": "stream",
     "text": [
      "+----------------+\n",
      "|length(contents)|\n",
      "+----------------+\n",
      "|            2477|\n",
      "|            2477|\n",
      "|            2477|\n",
      "|            2477|\n",
      "|            2477|\n",
      "|            2477|\n",
      "|            2477|\n",
      "|            2477|\n",
      "|            2477|\n",
      "+----------------+\n",
      "\n"
     ]
    },
    {
     "name": "stderr",
     "output_type": "stream",
     "text": [
      "                                                                                \r"
     ]
    }
   ],
   "source": [
    "# are these the same document? yeah they are\n",
    "train.documents.join(duplicate, \"docid\").select(F.length(\"contents\")).show()"
   ]
  }
 ],
 "metadata": {
  "kernelspec": {
   "display_name": ".venv",
   "language": "python",
   "name": "python3"
  },
  "language_info": {
   "codemirror_mode": {
    "name": "ipython",
    "version": 3
   },
   "file_extension": ".py",
   "mimetype": "text/x-python",
   "name": "python",
   "nbconvert_exporter": "python",
   "pygments_lexer": "ipython3",
   "version": "3.10.10"
  }
 },
 "nbformat": 4,
 "nbformat_minor": 2
}
