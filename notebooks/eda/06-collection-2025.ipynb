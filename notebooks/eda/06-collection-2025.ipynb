{
 "cells": [
  {
   "cell_type": "code",
   "execution_count": 1,
   "metadata": {},
   "outputs": [],
   "source": [
    "%load_ext autoreload\n",
    "%autoreload 2"
   ]
  },
  {
   "cell_type": "code",
   "execution_count": 2,
   "metadata": {},
   "outputs": [
    {
     "name": "stdout",
     "output_type": "stream",
     "text": [
      "\u001b[01;34m/storage/home/hcoda1/8/amiyaguchi3/scratch/longeval/raw/2025\u001b[0m\n",
      "├── \u001b[01;31mLongeval_2025_Train_Collection_p1.zip\u001b[0m\n",
      "├── \u001b[01;31mLongeval_2025_Train_Collection_p2.zip\u001b[0m\n",
      "├── \u001b[01;34mrelease_2025_p1\u001b[0m\n",
      "│   └── \u001b[01;34mFrench\u001b[0m\n",
      "│       ├── collection_db.db\n",
      "│       ├── inspect_db.py\n",
      "│       ├── \u001b[01;34mLongEval Train Collection\u001b[0m\n",
      "│       │   ├── \u001b[01;34mqrels\u001b[0m\n",
      "│       │   │   ├── \u001b[01;34m2022-06_fr\u001b[0m\n",
      "│       │   │   ├── \u001b[01;34m2022-07_fr\u001b[0m\n",
      "│       │   │   ├── \u001b[01;34m2022-08_fr\u001b[0m\n",
      "│       │   │   ├── \u001b[01;34m2022-09_fr\u001b[0m\n",
      "│       │   │   ├── \u001b[01;34m2022-10_fr\u001b[0m\n",
      "│       │   │   ├── \u001b[01;34m2022-11_fr\u001b[0m\n",
      "│       │   │   ├── \u001b[01;34m2022-12_fr\u001b[0m\n",
      "│       │   │   ├── \u001b[01;34m2023-01_fr\u001b[0m\n",
      "│       │   │   └── \u001b[01;34m2023-02_fr\u001b[0m\n",
      "│       │   └── \u001b[01;34mTrec\u001b[0m\n",
      "│       │       ├── \u001b[01;34m2022-06_fr\u001b[0m\n",
      "│       │       ├── \u001b[01;34m2022-07_fr\u001b[0m\n",
      "│       │       ├── \u001b[01;34m2022-08_fr\u001b[0m\n",
      "│       │       ├── \u001b[01;34m2022-09_fr\u001b[0m\n",
      "│       │       ├── \u001b[01;34m2022-10_fr\u001b[0m\n",
      "│       │       ├── \u001b[01;34m2022-11_fr\u001b[0m\n",
      "│       │       ├── \u001b[01;34m2022-12_fr\u001b[0m\n",
      "│       │       ├── \u001b[01;34m2023-01_fr\u001b[0m\n",
      "│       │       └── \u001b[01;34m2023-02_fr\u001b[0m\n",
      "│       ├── queries_db.db\n",
      "│       ├── queries.trec\n",
      "│       ├── queries.txt\n",
      "│       ├── README.md\n",
      "│       └── statistics_collection.py\n",
      "└── \u001b[01;34mrelease_2025_p2\u001b[0m\n",
      "    └── \u001b[01;34mFrench\u001b[0m\n",
      "        └── \u001b[01;34mLongEval Train Collection\u001b[0m\n",
      "            └── \u001b[01;34mJson\u001b[0m\n",
      "                ├── \u001b[01;34m2022-06_fr\u001b[0m\n",
      "                ├── \u001b[01;34m2022-07_fr\u001b[0m\n",
      "                ├── \u001b[01;34m2022-08_fr\u001b[0m\n",
      "                ├── \u001b[01;34m2022-09_fr\u001b[0m\n",
      "                ├── \u001b[01;34m2022-10_fr\u001b[0m\n",
      "                ├── \u001b[01;34m2022-11_fr\u001b[0m\n",
      "                ├── \u001b[01;34m2022-12_fr\u001b[0m\n",
      "                ├── \u001b[01;34m2023-01_fr\u001b[0m\n",
      "                └── \u001b[01;34m2023-02_fr\u001b[0m\n",
      "\n",
      "36 directories, 9 files\n"
     ]
    }
   ],
   "source": [
    "from pathlib import Path\n",
    "\n",
    "data_root = Path(\"~/scratch/longeval/raw/2025\").expanduser()\n",
    "! tree {data_root} -L 5"
   ]
  },
  {
   "cell_type": "code",
   "execution_count": 3,
   "metadata": {},
   "outputs": [
    {
     "name": "stderr",
     "output_type": "stream",
     "text": [
      "Setting default log level to \"WARN\".\n",
      "To adjust logging level use sc.setLogLevel(newLevel). For SparkR, use setLogLevel(newLevel).\n",
      "25/04/07 00:16:08 WARN NativeCodeLoader: Unable to load native-hadoop library for your platform... using builtin-java classes where applicable\n",
      "25/04/07 00:16:08 WARN SparkConf: Note that spark.local.dir will be overridden by the value set by the cluster manager (via SPARK_LOCAL_DIRS in mesos/standalone/kubernetes and LOCAL_DIRS in YARN).\n"
     ]
    }
   ],
   "source": [
    "from longeval.spark import get_spark\n",
    "\n",
    "spark = get_spark(cores=8, memory=\"28g\")"
   ]
  },
  {
   "cell_type": "code",
   "execution_count": 6,
   "metadata": {},
   "outputs": [
    {
     "name": "stderr",
     "output_type": "stream",
     "text": [
      "[Stage 8:======================================================>(547 + 2) / 549]\r"
     ]
    },
    {
     "name": "stdout",
     "output_type": "stream",
     "text": [
      "root\n",
      " |-- contents: string (nullable = true)\n",
      " |-- docid: string (nullable = true)\n",
      " |-- language: string (nullable = false)\n",
      " |-- date: string (nullable = true)\n",
      " |-- split: string (nullable = false)\n",
      "\n"
     ]
    },
    {
     "name": "stderr",
     "output_type": "stream",
     "text": [
      "                                                                                \r"
     ]
    }
   ],
   "source": [
    "from longeval.collection import Raw2025Collection\n",
    "\n",
    "train = Raw2025Collection(spark, data_root)\n",
    "train.documents.printSchema()"
   ]
  },
  {
   "cell_type": "code",
   "execution_count": 7,
   "metadata": {},
   "outputs": [
    {
     "name": "stderr",
     "output_type": "stream",
     "text": [
      "[Stage 11:===================================================>(1058 + 3) / 1061]\r"
     ]
    },
    {
     "name": "stdout",
     "output_type": "stream",
     "text": [
      "+-----+--------+-------+-------+\n",
      "|split|language|   date|  count|\n",
      "+-----+--------+-------+-------+\n",
      "|train|  French|2022-11|2433787|\n",
      "|train|  French|2022-10|2418103|\n",
      "|train|  French|2022-12|2534242|\n",
      "|train|  French|2023-01|2537565|\n",
      "|train|  French|2022-07|1777616|\n",
      "|train|  French|2022-08|1787018|\n",
      "|train|  French|2022-06|1775681|\n",
      "|train|  French|2022-09|1210186|\n",
      "|train|  French|2023-02|2526382|\n",
      "+-----+--------+-------+-------+\n",
      "\n",
      "CPU times: user 476 ms, sys: 182 ms, total: 658 ms\n",
      "Wall time: 2min 58s\n"
     ]
    },
    {
     "name": "stderr",
     "output_type": "stream",
     "text": [
      "                                                                                \r"
     ]
    }
   ],
   "source": [
    "%time train.documents.groupby(\"split\", \"language\", \"date\").count().show()"
   ]
  }
 ],
 "metadata": {
  "kernelspec": {
   "display_name": ".venv",
   "language": "python",
   "name": "python3"
  },
  "language_info": {
   "codemirror_mode": {
    "name": "ipython",
    "version": 3
   },
   "file_extension": ".py",
   "mimetype": "text/x-python",
   "name": "python",
   "nbconvert_exporter": "python",
   "pygments_lexer": "ipython3",
   "version": "3.10.10"
  }
 },
 "nbformat": 4,
 "nbformat_minor": 2
}
