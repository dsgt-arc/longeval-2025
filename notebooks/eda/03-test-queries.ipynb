{
 "cells": [
  {
   "cell_type": "code",
   "execution_count": 1,
   "metadata": {},
   "outputs": [
    {
     "name": "stderr",
     "output_type": "stream",
     "text": [
      "24/12/24 19:29:59 WARN Utils: Your hostname, daphne-major resolves to a loopback address: 127.0.1.1; using 10.255.255.254 instead (on interface lo)\n",
      "24/12/24 19:29:59 WARN Utils: Set SPARK_LOCAL_IP if you need to bind to another address\n",
      "Setting default log level to \"WARN\".\n",
      "To adjust logging level use sc.setLogLevel(newLevel). For SparkR, use setLogLevel(newLevel).\n",
      "24/12/24 19:30:00 WARN NativeCodeLoader: Unable to load native-hadoop library for your platform... using builtin-java classes where applicable\n",
      "24/12/24 19:30:00 WARN SparkConf: Note that spark.local.dir will be overridden by the value set by the cluster manager (via SPARK_LOCAL_DIRS in mesos/standalone/kubernetes and LOCAL_DIRS in YARN).\n"
     ]
    }
   ],
   "source": [
    "from longeval.spark import get_spark\n",
    "from longeval.collection import ParquetCollection\n",
    "from pyspark.sql import functions as F\n",
    "\n",
    "spark = get_spark()\n",
    "root = \"../../data/longeval/parquet/\"\n",
    "collection = ParquetCollection(spark, f\"{root}/train/2023_01/English\")"
   ]
  },
  {
   "cell_type": "code",
   "execution_count": 2,
   "metadata": {},
   "outputs": [
    {
     "name": "stdout",
     "output_type": "stream",
     "text": [
      "Row(qid='q0123805', query='Veal filet mignon')\n"
     ]
    }
   ],
   "source": [
    "row = collection.queries.sample(False, 0.1, 42).head()\n",
    "print(row)"
   ]
  },
  {
   "cell_type": "code",
   "execution_count": 3,
   "metadata": {},
   "outputs": [
    {
     "name": "stdout",
     "output_type": "stream",
     "text": [
      "root\n",
      " |-- qid: string (nullable = true)\n",
      " |-- rank: integer (nullable = true)\n",
      " |-- docid: string (nullable = true)\n",
      " |-- rel: integer (nullable = true)\n",
      "\n"
     ]
    },
    {
     "data": {
      "text/plain": [
       "{'doc012303512545',\n",
       " 'doc012304816815',\n",
       " 'doc012305205106',\n",
       " 'doc012307703830',\n",
       " 'doc012308900581',\n",
       " 'doc012312602366'}"
      ]
     },
     "execution_count": 3,
     "metadata": {},
     "output_type": "execute_result"
    }
   ],
   "source": [
    "collection.qrels.printSchema()\n",
    "df = collection.qrels.where(F.col(\"qid\") == row.qid)\n",
    "df.count(), df.distinct().count()\n",
    "relevant_set = {row.docid for row in df.collect() if row.rel > 0}\n",
    "relevant_set"
   ]
  },
  {
   "cell_type": "code",
   "execution_count": 4,
   "metadata": {},
   "outputs": [
    {
     "data": {
      "text/plain": [
       "{'train-english-2023_01': {'aliases': {},\n",
       "  'mappings': {'properties': {'contents': {'type': 'text'},\n",
       "    'docid': {'type': 'keyword'}}},\n",
       "  'settings': {'index': {'replication': {'type': 'DOCUMENT'},\n",
       "    'number_of_shards': '1',\n",
       "    'provided_name': 'train-english-2023_01',\n",
       "    'creation_date': '1735090123643',\n",
       "    'number_of_replicas': '0',\n",
       "    'uuid': 'lLIZckjbQJmCW95zprKRyQ',\n",
       "    'version': {'created': '136397827'}}}}}"
      ]
     },
     "execution_count": 4,
     "metadata": {},
     "output_type": "execute_result"
    }
   ],
   "source": [
    "from opensearchpy import OpenSearch\n",
    "\n",
    "client = OpenSearch(\"http://localhost:9200\")\n",
    "client.indices.get(index=\"train-english-2023_01\")"
   ]
  },
  {
   "cell_type": "code",
   "execution_count": 5,
   "metadata": {},
   "outputs": [
    {
     "name": "stdout",
     "output_type": "stream",
     "text": [
      "['doc012303612112', 'doc012308900581', 'doc012311208151', 'doc012303512545', 'doc012303115394', 'doc012310507994', 'doc012307102434', 'doc012311313775', 'doc012312300386', 'doc012300503573']\n"
     ]
    },
    {
     "data": {
      "text/plain": [
       "(np.float64(0.2234867697570255), 6)"
      ]
     },
     "execution_count": 5,
     "metadata": {},
     "output_type": "execute_result"
    }
   ],
   "source": [
    "# get queries and calculate ndcg for the first 1000 documents\n",
    "from sklearn.metrics import ndcg_score\n",
    "\n",
    "query = row.query\n",
    "results = client.search(\n",
    "    index=\"train-english-2023_01\",\n",
    "    body={\"query\": {\"match\": {\"contents\": query}}},\n",
    "    size=1000,\n",
    ")\n",
    "docids = [hit[\"_source\"][\"docid\"] for hit in results[\"hits\"][\"hits\"]]\n",
    "print(docids[:10])\n",
    "true_relevance = [1 if docid in relevant_set else 0 for docid in docids]\n",
    "predicted_relevance = [1] * len(docids)\n",
    "ndcg_score([true_relevance], [predicted_relevance]), sum(true_relevance)"
   ]
  }
 ],
 "metadata": {
  "kernelspec": {
   "display_name": "venv",
   "language": "python",
   "name": "python3"
  },
  "language_info": {
   "codemirror_mode": {
    "name": "ipython",
    "version": 3
   },
   "file_extension": ".py",
   "mimetype": "text/x-python",
   "name": "python",
   "nbconvert_exporter": "python",
   "pygments_lexer": "ipython3",
   "version": "3.11.6"
  }
 },
 "nbformat": 4,
 "nbformat_minor": 2
}
