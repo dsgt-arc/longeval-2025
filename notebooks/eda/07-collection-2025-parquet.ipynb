{
 "cells": [
  {
   "cell_type": "code",
   "execution_count": 1,
   "metadata": {},
   "outputs": [],
   "source": [
    "%load_ext autoreload\n",
    "%autoreload 2"
   ]
  },
  {
   "cell_type": "code",
   "execution_count": 2,
   "metadata": {},
   "outputs": [
    {
     "name": "stderr",
     "output_type": "stream",
     "text": [
      "Setting default log level to \"WARN\".\n",
      "To adjust logging level use sc.setLogLevel(newLevel). For SparkR, use setLogLevel(newLevel).\n",
      "25/04/07 22:45:31 WARN NativeCodeLoader: Unable to load native-hadoop library for your platform... using builtin-java classes where applicable\n",
      "25/04/07 22:45:31 WARN SparkConf: Note that spark.local.dir will be overridden by the value set by the cluster manager (via SPARK_LOCAL_DIRS in mesos/standalone/kubernetes and LOCAL_DIRS in YARN).\n"
     ]
    }
   ],
   "source": [
    "from longeval.spark import get_spark\n",
    "\n",
    "spark = get_spark(cores=8, memory=\"28g\")"
   ]
  },
  {
   "cell_type": "code",
   "execution_count": 3,
   "metadata": {},
   "outputs": [
    {
     "name": "stderr",
     "output_type": "stream",
     "text": [
      "                                                                                \r"
     ]
    },
    {
     "name": "stdout",
     "output_type": "stream",
     "text": [
      "root\n",
      " |-- contents: string (nullable = true)\n",
      " |-- docid: string (nullable = true)\n",
      " |-- split: string (nullable = true)\n",
      " |-- language: string (nullable = true)\n",
      " |-- date: string (nullable = true)\n",
      "\n"
     ]
    }
   ],
   "source": [
    "from longeval.collection import ParquetCollection\n",
    "from pathlib import Path\n",
    "\n",
    "data_root = Path(\"~/shared/longeval/2025/parquet/\").expanduser()\n",
    "train = ParquetCollection(spark, data_root)\n",
    "train.documents.printSchema()"
   ]
  },
  {
   "cell_type": "code",
   "execution_count": 4,
   "metadata": {},
   "outputs": [
    {
     "name": "stderr",
     "output_type": "stream",
     "text": [
      "                                                                                \r"
     ]
    },
    {
     "name": "stdout",
     "output_type": "stream",
     "text": [
      "+-----+--------+-------+-------+\n",
      "|split|language|   date|  count|\n",
      "+-----+--------+-------+-------+\n",
      "|train|  French|2022-11|2433787|\n",
      "|train|  French|2022-10|2418103|\n",
      "|train|  French|2022-12|2534242|\n",
      "|train|  French|2023-01|2537565|\n",
      "|train|  French|2022-08|1787018|\n",
      "|train|  French|2022-07|1777616|\n",
      "|train|  French|2022-09|1210186|\n",
      "|train|  French|2022-06|1775681|\n",
      "|train|  French|2023-02|2526382|\n",
      "+-----+--------+-------+-------+\n",
      "\n",
      "CPU times: user 30.4 ms, sys: 4.93 ms, total: 35.4 ms\n",
      "Wall time: 12.8 s\n"
     ]
    }
   ],
   "source": [
    "%time train.documents.groupby(\"split\", \"language\", \"date\").count().show()"
   ]
  },
  {
   "cell_type": "code",
   "execution_count": 5,
   "metadata": {},
   "outputs": [
    {
     "name": "stdout",
     "output_type": "stream",
     "text": [
      "+-----+--------+-------+------+\n",
      "|split|language|   date| count|\n",
      "+-----+--------+-------+------+\n",
      "|train|  French|2022-12|139035|\n",
      "|train|  French|2023-01|133244|\n",
      "|train|  French|2022-11|138031|\n",
      "|train|  French|2022-09|135483|\n",
      "|train|  French|2022-08|133001|\n",
      "|train|  French|2022-10|123967|\n",
      "|train|  French|2022-07|107916|\n",
      "|train|  French|2022-06| 85776|\n",
      "|train|  French|2023-02| 55718|\n",
      "+-----+--------+-------+------+\n",
      "\n",
      "CPU times: user 2.29 ms, sys: 1.2 ms, total: 3.48 ms\n",
      "Wall time: 741 ms\n"
     ]
    }
   ],
   "source": [
    "%time train.qrels.groupby(\"split\", \"language\", \"date\").count().show()"
   ]
  }
 ],
 "metadata": {
  "kernelspec": {
   "display_name": ".venv",
   "language": "python",
   "name": "python3"
  },
  "language_info": {
   "codemirror_mode": {
    "name": "ipython",
    "version": 3
   },
   "file_extension": ".py",
   "mimetype": "text/x-python",
   "name": "python",
   "nbconvert_exporter": "python",
   "pygments_lexer": "ipython3",
   "version": "3.10.10"
  }
 },
 "nbformat": 4,
 "nbformat_minor": 2
}
