{
 "cells": [
  {
   "cell_type": "markdown",
   "metadata": {},
   "source": [
    "# opensearch loading\n",
    "\n",
    "The purpose of this notebook is to load an initial set of data into opensearch so we can validate the initial set of queries.\n",
    "We'll take a look at data for 2024 in the process."
   ]
  },
  {
   "cell_type": "code",
   "execution_count": 1,
   "metadata": {},
   "outputs": [],
   "source": [
    "%load_ext autoreload\n",
    "%autoreload 2"
   ]
  },
  {
   "cell_type": "code",
   "execution_count": 2,
   "metadata": {},
   "outputs": [
    {
     "name": "stdout",
     "output_type": "stream",
     "text": [
      "\u001b[01;34m../../data/longeval\u001b[0m\n",
      "├── \u001b[01;32mLongEval 2024 Test Collection Readme.pdf\u001b[0m\n",
      "├── \u001b[01;32mLongEval 2024 Train Collection Readme.pdf\u001b[0m\n",
      "├── \u001b[01;34mLongEval Test Collection\u001b[0m\n",
      "│   ├── \u001b[01;34m2023_06\u001b[0m\n",
      "│   │   ├── \u001b[01;34mEnglish\u001b[0m\n",
      "│   │   ├── \u001b[01;34mFrench\u001b[0m\n",
      "│   │   └── \u001b[01;32mcount_docs.sh\u001b[0m\n",
      "│   └── \u001b[01;34m2023_08\u001b[0m\n",
      "│       ├── \u001b[01;34mEnglish\u001b[0m\n",
      "│       ├── \u001b[01;34mFrench\u001b[0m\n",
      "│       └── \u001b[01;32mcount_docs.sh\u001b[0m\n",
      "├── \u001b[01;34mLongEval Train Collection\u001b[0m\n",
      "│   └── \u001b[01;34m2023_01\u001b[0m\n",
      "│       ├── \u001b[01;34mEnglish\u001b[0m\n",
      "│       ├── \u001b[01;34mFrench\u001b[0m\n",
      "│       └── \u001b[01;32mcount_docs.sh\u001b[0m\n",
      "├── \u001b[01;32mid_urls_2023_01.txt\u001b[0m\n",
      "├── \u001b[01;32mid_urls_2023_06.txt\u001b[0m\n",
      "├── \u001b[01;32mid_urls_2023_08.txt\u001b[0m\n",
      "└── \u001b[01;34mopensearch-v1\u001b[0m\n",
      "    ├── \u001b[01;32mbatch_metrics_enabled.conf\u001b[0m\n",
      "    ├── \u001b[01;32mlogging_enabled.conf\u001b[0m\n",
      "    ├── \u001b[01;34mnodes\u001b[0m\n",
      "    │   └── \u001b[01;34m0\u001b[0m\n",
      "    ├── \u001b[01;32mperformance_analyzer_enabled.conf\u001b[0m\n",
      "    ├── \u001b[01;32mrca_enabled.conf\u001b[0m\n",
      "    └── \u001b[01;32mthread_contention_monitoring_enabled.conf\u001b[0m\n",
      "\n",
      "14 directories, 13 files\n"
     ]
    }
   ],
   "source": [
    "data_root = \"../../data/longeval\"\n",
    "! tree {data_root} -L 3"
   ]
  },
  {
   "cell_type": "code",
   "execution_count": 3,
   "metadata": {},
   "outputs": [
    {
     "name": "stdout",
     "output_type": "stream",
     "text": [
      "doc012310000001\thttps://nationalinterest.org/blog/reboot/forget-nukes-tunnels-are-north-koreas-secret-weapon-164295\n",
      "doc012310000002\thttps://ppmforums.com/viewtopic.php?t=46501&view=previous\n",
      "doc012310000003\thttps://www.gettyimages.nl/detail/nieuwsfoto%27s/lawyer-james-b-donovan-widely-known-for-negotiating-the-nieuwsfotos/540536060\n",
      "doc012310000004\thttps://nationalinterest.org/feature/what-rex-tillersons-nomination-means-russia-policy-18726\n",
      "doc012310000005\thttps://en.pokechange.net/@Issan/collection\n",
      "doc012310000006\thttp://www.llu.edu/pages/faculty/directory/portfolio_activity.php?catid=5&eid=1a30481&uid=junternaehrer\n",
      "doc012310000007\thttps://wikimili.com/en/Kurt_Meyer\n",
      "doc012310000008\thttp://www.historycommons.org/context.jsp?item=moorheadcensor72\n",
      "doc012310000009\thttps://farsight.org/demo/Time_Cross_Project/2018/Time_Cross_January_2018_Events.html\n",
      "doc012310000010\thttps://jnccn.org/abstract/journals/jnccn/15/8/article-p1028.xml?result=2&rskey=26Qf0J\n",
      "cat: write error: Broken pipe\n"
     ]
    }
   ],
   "source": [
    "! cat {data_root}/id_urls_2023_01.txt | head -n 10"
   ]
  },
  {
   "cell_type": "code",
   "execution_count": 4,
   "metadata": {},
   "outputs": [
    {
     "name": "stderr",
     "output_type": "stream",
     "text": [
      "24/12/19 00:02:21 WARN Utils: Your hostname, daphne-major resolves to a loopback address: 127.0.1.1; using 10.255.255.254 instead (on interface lo)\n",
      "24/12/19 00:02:21 WARN Utils: Set SPARK_LOCAL_IP if you need to bind to another address\n"
     ]
    },
    {
     "name": "stdout",
     "output_type": "stream",
     "text": [
      ":: loading settings :: url = jar:file:/home/anthony/omscs/dsgt-clef/venv/lib/python3.11/site-packages/pyspark/jars/ivy-2.5.1.jar!/org/apache/ivy/core/settings/ivysettings.xml\n"
     ]
    },
    {
     "name": "stderr",
     "output_type": "stream",
     "text": [
      "Ivy Default Cache set to: /home/anthony/.ivy2/cache\n",
      "The jars for the packages stored in: /home/anthony/.ivy2/jars\n",
      "com.databricks#spark-xml_2.12 added as a dependency\n",
      ":: resolving dependencies :: org.apache.spark#spark-submit-parent-52338051-d53c-4d86-a20c-9a707a001d85;1.0\n",
      "\tconfs: [default]\n",
      "\tfound com.databricks#spark-xml_2.12;0.18.0 in central\n",
      "\tfound commons-io#commons-io;2.11.0 in central\n",
      "\tfound org.glassfish.jaxb#txw2;3.0.2 in central\n",
      "\tfound org.apache.ws.xmlschema#xmlschema-core;2.3.0 in central\n",
      "\tfound org.scala-lang.modules#scala-collection-compat_2.12;2.9.0 in central\n",
      "downloading https://repo1.maven.org/maven2/com/databricks/spark-xml_2.12/0.18.0/spark-xml_2.12-0.18.0.jar ...\n",
      "\t[SUCCESSFUL ] com.databricks#spark-xml_2.12;0.18.0!spark-xml_2.12.jar (95ms)\n",
      ":: resolution report :: resolve 1123ms :: artifacts dl 99ms\n",
      "\t:: modules in use:\n",
      "\tcom.databricks#spark-xml_2.12;0.18.0 from central in [default]\n",
      "\tcommons-io#commons-io;2.11.0 from central in [default]\n",
      "\torg.apache.ws.xmlschema#xmlschema-core;2.3.0 from central in [default]\n",
      "\torg.glassfish.jaxb#txw2;3.0.2 from central in [default]\n",
      "\torg.scala-lang.modules#scala-collection-compat_2.12;2.9.0 from central in [default]\n",
      "\t---------------------------------------------------------------------\n",
      "\t|                  |            modules            ||   artifacts   |\n",
      "\t|       conf       | number| search|dwnlded|evicted|| number|dwnlded|\n",
      "\t---------------------------------------------------------------------\n",
      "\t|      default     |   5   |   3   |   3   |   0   ||   5   |   1   |\n",
      "\t---------------------------------------------------------------------\n",
      "\n",
      ":: problems summary ::\n",
      ":::: ERRORS\n",
      "\tunknown resolver null\n",
      "\n",
      "\tunknown resolver null\n",
      "\n",
      "\n",
      ":: USE VERBOSE OR DEBUG MESSAGE LEVEL FOR MORE DETAILS\n",
      ":: retrieving :: org.apache.spark#spark-submit-parent-52338051-d53c-4d86-a20c-9a707a001d85\n",
      "\tconfs: [default]\n",
      "\t1 artifacts copied, 4 already retrieved (150kB/4ms)\n",
      "24/12/19 00:02:23 WARN NativeCodeLoader: Unable to load native-hadoop library for your platform... using builtin-java classes where applicable\n",
      "Setting default log level to \"WARN\".\n",
      "To adjust logging level use sc.setLogLevel(newLevel). For SparkR, use setLogLevel(newLevel).\n",
      "24/12/19 00:02:23 WARN SparkConf: Note that spark.local.dir will be overridden by the value set by the cluster manager (via SPARK_LOCAL_DIRS in mesos/standalone/kubernetes and LOCAL_DIRS in YARN).\n"
     ]
    },
    {
     "data": {
      "text/html": [
       "\n",
       "            <div>\n",
       "                <p><b>SparkSession - in-memory</b></p>\n",
       "                \n",
       "        <div>\n",
       "            <p><b>SparkContext</b></p>\n",
       "\n",
       "            <p><a href=\"http://10.255.255.254:4040\">Spark UI</a></p>\n",
       "\n",
       "            <dl>\n",
       "              <dt>Version</dt>\n",
       "                <dd><code>v3.5.3</code></dd>\n",
       "              <dt>Master</dt>\n",
       "                <dd><code>local[32]</code></dd>\n",
       "              <dt>AppName</dt>\n",
       "                <dd><code>longeval</code></dd>\n",
       "            </dl>\n",
       "        </div>\n",
       "        \n",
       "            </div>\n",
       "        "
      ],
      "text/plain": [
       "<pyspark.sql.session.SparkSession at 0x7fca3d5995d0>"
      ]
     },
     "execution_count": 4,
     "metadata": {},
     "output_type": "execute_result"
    }
   ],
   "source": [
    "from longeval.utils import get_spark\n",
    "\n",
    "data_root = \"../../data/longeval\"\n",
    "\n",
    "spark = get_spark()\n",
    "spark"
   ]
  },
  {
   "cell_type": "code",
   "execution_count": 5,
   "metadata": {},
   "outputs": [
    {
     "name": "stdout",
     "output_type": "stream",
     "text": [
      "<DOC>\n",
      "<DOCNO>doc062300400001</DOCNO>\n",
      "<DOCID>doc062300400001</DOCID>\n",
      "<TEXT>\n",
      "Request for Quotation LLD\n",
      "Renault Traffic\n",
      "- Request for a long-term rental quotation\n",
      "Renault Traffic //\n",
      "Your quote request LLD / LOA\n",
      "Renault Renault TRAFFIC\n",
      "cat: write error: Broken pipe\n"
     ]
    }
   ],
   "source": [
    "! cat {data_root}/\"LongEval Test Collection\"/2023_06/English/Documents/Trec/collector_kodicare_4.txt | head -n 10"
   ]
  },
  {
   "cell_type": "code",
   "execution_count": 6,
   "metadata": {},
   "outputs": [
    {
     "name": "stdout",
     "output_type": "stream",
     "text": [
      "  17887 <TEXT>\n",
      "  17887 <DOCNO>\n",
      "  17887 <DOCID>\n",
      "  17887 <DOC>\n",
      "     82 <br>\n",
      "     32 <p>\n",
      "     27 <strong>\n",
      "     26 <reference>\n"
     ]
    }
   ],
   "source": [
    "# find all the unique tags in the dataset\n",
    "! cat {data_root}/\"LongEval Test Collection\"/2023_06/English/Documents/Trec/collector_kodicare_3.txt | \\\n",
    "    grep -oP \"<[^>\\/]+>\" | sort | uniq -c | sort -nr | head -n 8"
   ]
  },
  {
   "cell_type": "markdown",
   "metadata": {},
   "source": [
    "```bash\n",
    "! cat {data_root}/\"LongEval Train Collection\"/2023_01/English/Documents/Trec/* | \\\n",
    "    grep -oaE \"<[^>\\/]+>\" | sort | uniq -c | sort -nr | head -n 8\n",
    "\n",
    "2033736 <TEXT>\n",
    "2033736 <DOCNO>\n",
    "2033736 <DOCID>\n",
    "2033736 <DOC>\n",
    "```"
   ]
  },
  {
   "cell_type": "code",
   "execution_count": 176,
   "metadata": {},
   "outputs": [
    {
     "name": "stderr",
     "output_type": "stream",
     "text": [
      "24/12/19 02:12:18 WARN MemoryStore: Not enough space to cache rdd_1591_37 in memory! (computed 68.2 MiB so far)\n",
      "24/12/19 02:12:18 WARN MemoryStore: Not enough space to cache rdd_1591_41 in memory! (computed 68.2 MiB so far)\n",
      "                                                                                \r"
     ]
    },
    {
     "data": {
      "text/plain": [
       "2033736"
      ]
     },
     "execution_count": 176,
     "metadata": {},
     "output_type": "execute_result"
    }
   ],
   "source": [
    "from longeval.collection import Collection\n",
    "\n",
    "# according to a simple grep, there are 1759690 documents in the collection\n",
    "train_eng = Collection(spark, f\"{data_root}/LongEval Train Collection/2023_01/English\")\n",
    "docs = train_eng.documents.cache()\n",
    "docs.count()"
   ]
  },
  {
   "cell_type": "code",
   "execution_count": 167,
   "metadata": {},
   "outputs": [
    {
     "name": "stdout",
     "output_type": "stream",
     "text": [
      "-RECORD 0------------------------------------------------------------------------------------\n",
      " contents | Volt\\nSystem\\n–\\nThe Tiffen Company SHOPPING CART title\\ndetails THE\\nHEART\\n... \n",
      " id       | doc012300700001                                                                  \n",
      "-RECORD 1------------------------------------------------------------------------------------\n",
      " contents | Eurovision\\nSong\\nContest Story — 12 years ago\\n— 12 years\\nago Story — 12 ye... \n",
      " id       | doc012300700002                                                                  \n",
      "-RECORD 2------------------------------------------------------------------------------------\n",
      " contents | Assembly rules out the possibility of pharmacists prescribing certain medicin... \n",
      " id       | doc012300700003                                                                  \n",
      "-RECORD 3------------------------------------------------------------------------------------\n",
      " contents | Nanne Grönvall\\n| BeatZone\\nAlbums\\nEvents\\nNanne Grönvall\\nNanne\\nis a Swedi... \n",
      " id       | doc012300700004                                                                  \n",
      "-RECORD 4------------------------------------------------------------------------------------\n",
      " contents | TIME and TICKETS:\\nOne day my Prince will come...\\nby Michèle MAZEL TEMPS and... \n",
      " id       | doc012300700005                                                                  \n",
      "only showing top 5 rows\n",
      "\n"
     ]
    }
   ],
   "source": [
    "docs.show(5, vertical=True, truncate=80)"
   ]
  },
  {
   "cell_type": "code",
   "execution_count": 171,
   "metadata": {},
   "outputs": [
    {
     "name": "stdout",
     "output_type": "stream",
     "text": [
      "-RECORD 0---------------------\n",
      " qid   | q012318              \n",
      " query | case over the border \n",
      "-RECORD 1---------------------\n",
      " qid   | q012396              \n",
      " query | water atlantic       \n",
      "-RECORD 2---------------------\n",
      " qid   | q0123180             \n",
      " query | blanquette de vea... \n",
      "-RECORD 3---------------------\n",
      " qid   | q0123240             \n",
      " query | gift woman           \n",
      "-RECORD 4---------------------\n",
      " qid   | q0123387             \n",
      " query | Government           \n",
      "only showing top 5 rows\n",
      "\n"
     ]
    }
   ],
   "source": [
    "train_eng.queries.show(5, vertical=True)"
   ]
  },
  {
   "cell_type": "code",
   "execution_count": 174,
   "metadata": {},
   "outputs": [
    {
     "name": "stdout",
     "output_type": "stream",
     "text": [
      "-RECORD 0----------------\n",
      " qid   | q012318         \n",
      " e     | 0               \n",
      " docid | doc012303114898 \n",
      " rel   | 0               \n",
      "-RECORD 1----------------\n",
      " qid   | q012318         \n",
      " e     | 0               \n",
      " docid | doc012307806130 \n",
      " rel   | 1               \n",
      "-RECORD 2----------------\n",
      " qid   | q012318         \n",
      " e     | 0               \n",
      " docid | doc012311314092 \n",
      " rel   | 0               \n",
      "-RECORD 3----------------\n",
      " qid   | q012318         \n",
      " e     | 0               \n",
      " docid | doc012301310209 \n",
      " rel   | 0               \n",
      "-RECORD 4----------------\n",
      " qid   | q012318         \n",
      " e     | 0               \n",
      " docid | doc012311608989 \n",
      " rel   | 0               \n",
      "only showing top 5 rows\n",
      "\n"
     ]
    }
   ],
   "source": [
    "train_eng.qrels.show(5, vertical=True)"
   ]
  }
 ],
 "metadata": {
  "kernelspec": {
   "display_name": "venv",
   "language": "python",
   "name": "python3"
  },
  "language_info": {
   "codemirror_mode": {
    "name": "ipython",
    "version": 3
   },
   "file_extension": ".py",
   "mimetype": "text/x-python",
   "name": "python",
   "nbconvert_exporter": "python",
   "pygments_lexer": "ipython3",
   "version": "3.11.6"
  }
 },
 "nbformat": 4,
 "nbformat_minor": 2
}
