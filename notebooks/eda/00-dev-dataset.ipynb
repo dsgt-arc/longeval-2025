{
 "cells": [
  {
   "cell_type": "code",
   "execution_count": 1,
   "metadata": {},
   "outputs": [
    {
     "name": "stdout",
     "output_type": "stream",
     "text": [
      "\u001b[1m                                                                                \u001b[0m\n",
      "\u001b[1m \u001b[0m\u001b[1;33mUsage: \u001b[0m\u001b[1mlongeval etl dev-sample [OPTIONS] INPUT_PATH OUTPUT_PATH\u001b[0m\u001b[1m               \u001b[0m\u001b[1m \u001b[0m\n",
      "\u001b[1m \u001b[0m\u001b[1m                               [SCHEDULER_HOST]\u001b[0m\u001b[1m                               \u001b[0m\u001b[1m \u001b[0m\n",
      "\u001b[1m                                                                                \u001b[0m\n",
      " Create a dev dataset using the first few examples of each partition            \n",
      "                                                                                \n",
      "\u001b[2m╭─\u001b[0m\u001b[2m Arguments \u001b[0m\u001b[2m─────────────────────────────────────────────────────────────────\u001b[0m\u001b[2m─╮\u001b[0m\n",
      "\u001b[2m│\u001b[0m \u001b[31m*\u001b[0m    input_path          \u001b[1;33mTEXT            \u001b[0m  Input root directory              \u001b[2m│\u001b[0m\n",
      "\u001b[2m│\u001b[0m                                            \u001b[2m[default: None]     \u001b[0m              \u001b[2m│\u001b[0m\n",
      "\u001b[2m│\u001b[0m                                            \u001b[2;31m[required]          \u001b[0m              \u001b[2m│\u001b[0m\n",
      "\u001b[2m│\u001b[0m \u001b[31m*\u001b[0m    output_path         \u001b[1;33mTEXT            \u001b[0m  Output root directory             \u001b[2m│\u001b[0m\n",
      "\u001b[2m│\u001b[0m                                            \u001b[2m[default: None]      \u001b[0m             \u001b[2m│\u001b[0m\n",
      "\u001b[2m│\u001b[0m                                            \u001b[2;31m[required]           \u001b[0m             \u001b[2m│\u001b[0m\n",
      "\u001b[2m│\u001b[0m      scheduler_host      \u001b[1;2;33m[\u001b[0m\u001b[1;33mSCHEDULER_HOST\u001b[0m\u001b[1;2;33m]\u001b[0m  Scheduler host \u001b[2m[default: None]\u001b[0m    \u001b[2m│\u001b[0m\n",
      "\u001b[2m╰──────────────────────────────────────────────────────────────────────────────╯\u001b[0m\n",
      "\u001b[2m╭─\u001b[0m\u001b[2m Options \u001b[0m\u001b[2m───────────────────────────────────────────────────────────────────\u001b[0m\u001b[2m─╮\u001b[0m\n",
      "\u001b[2m│\u001b[0m \u001b[1;36m-\u001b[0m\u001b[1;36m-help\u001b[0m          Show this message and exit.                                  \u001b[2m│\u001b[0m\n",
      "\u001b[2m╰──────────────────────────────────────────────────────────────────────────────╯\u001b[0m\n",
      "\n"
     ]
    }
   ],
   "source": [
    "! longeval etl dev-sample --help"
   ]
  },
  {
   "cell_type": "code",
   "execution_count": 2,
   "metadata": {},
   "outputs": [
    {
     "name": "stdout",
     "output_type": "stream",
     "text": [
      "'LongEval Test Collection'    id_urls_2023_01.txt   id_urls_2023_08.txt\n",
      "'LongEval Train Collection'   id_urls_2023_06.txt\n"
     ]
    }
   ],
   "source": [
    "! ls ../../data/longeval/raw"
   ]
  },
  {
   "cell_type": "code",
   "execution_count": 3,
   "metadata": {},
   "outputs": [
    {
     "name": "stdout",
     "output_type": "stream",
     "text": [
      "DEBUG: Checking if DevSampleTask(input_path=../../data/longeval/raw/LongEval Train Collection, output_path=../../data/longeval/dev-sample/Dev LongEval Train Collection, limit_json=10) is complete\n",
      "INFO: Informed scheduler that task   DevSampleTask_______data_longe_10_______data_longe_ec1751e756   has status   PENDING\n",
      "INFO: Done scheduling tasks\n",
      "INFO: Running Worker with 1 processes\n",
      "DEBUG: Asking scheduler for work...\n",
      "DEBUG: Pending tasks: 1\n",
      "INFO: [pid 66374] Worker Worker(salt=5270051369, workers=1, host=daphne-major, username=anthony, pid=66374) running   DevSampleTask(input_path=../../data/longeval/raw/LongEval Train Collection, output_path=../../data/longeval/dev-sample/Dev LongEval Train Collection, limit_json=10)\n",
      "100%|█████████████████████████████████████████| 527/527 [00:37<00:00, 14.12it/s]\n",
      "INFO: [pid 66374] Worker Worker(salt=5270051369, workers=1, host=daphne-major, username=anthony, pid=66374) done      DevSampleTask(input_path=../../data/longeval/raw/LongEval Train Collection, output_path=../../data/longeval/dev-sample/Dev LongEval Train Collection, limit_json=10)\n",
      "DEBUG: 1 running tasks, waiting for next task to finish\n",
      "INFO: Informed scheduler that task   DevSampleTask_______data_longe_10_______data_longe_ec1751e756   has status   DONE\n",
      "DEBUG: Asking scheduler for work...\n",
      "DEBUG: Done\n",
      "DEBUG: There are no more tasks to run at this time\n",
      "INFO: Worker Worker(salt=5270051369, workers=1, host=daphne-major, username=anthony, pid=66374) was stopped. Shutting down Keep-Alive thread\n",
      "INFO: \n",
      "===== Luigi Execution Summary =====\n",
      "\n",
      "Scheduled 1 tasks of which:\n",
      "* 1 ran successfully:\n",
      "    - 1 DevSampleTask(input_path=../../data/longeval/raw/LongEval Train Collection, output_path=../../data/longeval/dev-sample/Dev LongEval Train Collection, limit_json=10)\n",
      "\n",
      "This progress looks :) because there were no failed tasks or missing dependencies\n",
      "\n",
      "===== Luigi Execution Summary =====\n",
      "\n"
     ]
    }
   ],
   "source": [
    "root = \"../../data/longeval\"\n",
    "! longeval etl dev-sample \\\n",
    "    {root}/raw/\"LongEval Train Collection\" \\\n",
    "    {root}/dev-sample/\"Dev LongEval Train Collection\""
   ]
  },
  {
   "cell_type": "code",
   "execution_count": 5,
   "metadata": {},
   "outputs": [
    {
     "name": "stdout",
     "output_type": "stream",
     "text": [
      "DEBUG: Checking if DevSampleTask(input_path=../../data/longeval/raw/LongEval Test Collection, output_path=../../data/longeval/dev-sample/Dev LongEval Test Collection, limit_json=10) is complete\n",
      "INFO: Informed scheduler that task   DevSampleTask_______data_longe_10_______data_longe_512b5249c6   has status   PENDING\n",
      "INFO: Done scheduling tasks\n",
      "INFO: Running Worker with 1 processes\n",
      "DEBUG: Asking scheduler for work...\n",
      "DEBUG: Pending tasks: 1\n",
      "INFO: [pid 67769] Worker Worker(salt=1389124664, workers=1, host=daphne-major, username=anthony, pid=67769) running   DevSampleTask(input_path=../../data/longeval/raw/LongEval Test Collection, output_path=../../data/longeval/dev-sample/Dev LongEval Test Collection, limit_json=10)\n",
      "100%|███████████████████████████████████████| 1073/1073 [00:43<00:00, 24.70it/s]\n",
      "INFO: [pid 67769] Worker Worker(salt=1389124664, workers=1, host=daphne-major, username=anthony, pid=67769) done      DevSampleTask(input_path=../../data/longeval/raw/LongEval Test Collection, output_path=../../data/longeval/dev-sample/Dev LongEval Test Collection, limit_json=10)\n",
      "DEBUG: 1 running tasks, waiting for next task to finish\n",
      "INFO: Informed scheduler that task   DevSampleTask_______data_longe_10_______data_longe_512b5249c6   has status   DONE\n",
      "DEBUG: Asking scheduler for work...\n",
      "DEBUG: Done\n",
      "DEBUG: There are no more tasks to run at this time\n",
      "INFO: Worker Worker(salt=1389124664, workers=1, host=daphne-major, username=anthony, pid=67769) was stopped. Shutting down Keep-Alive thread\n",
      "INFO: \n",
      "===== Luigi Execution Summary =====\n",
      "\n",
      "Scheduled 1 tasks of which:\n",
      "* 1 ran successfully:\n",
      "    - 1 DevSampleTask(input_path=../../data/longeval/raw/LongEval Test Collection, output_path=../../data/longeval/dev-sample/Dev LongEval Test Collection, limit_json=10)\n",
      "\n",
      "This progress looks :) because there were no failed tasks or missing dependencies\n",
      "\n",
      "===== Luigi Execution Summary =====\n",
      "\n"
     ]
    }
   ],
   "source": [
    "root = \"../../data/longeval\"\n",
    "! longeval etl dev-sample \\\n",
    "    {root}/raw/\"LongEval Test Collection\" \\\n",
    "    {root}/dev-sample/\"Dev LongEval Test Collection\""
   ]
  },
  {
   "cell_type": "code",
   "execution_count": 6,
   "metadata": {},
   "outputs": [
    {
     "name": "stdout",
     "output_type": "stream",
     "text": [
      "40G\t../../data/longeval/raw/LongEval Train Collection\n",
      "14M\t../../data/longeval/dev-sample/Dev LongEval Train Collection\n",
      "57G\t../../data/longeval/raw/LongEval Test Collection\n",
      "19M\t../../data/longeval/dev-sample/Dev LongEval Test Collection\n"
     ]
    }
   ],
   "source": [
    "# check the relative size of each of the directories\n",
    "! du -sh {root}/raw/\"LongEval Train Collection\"\n",
    "! du -sh {root}/dev-sample/\"Dev LongEval Train Collection\"\n",
    "! du -sh {root}/raw/\"LongEval Test Collection\"\n",
    "! du -sh {root}/dev-sample/\"Dev LongEval Test Collection\""
   ]
  }
 ],
 "metadata": {
  "kernelspec": {
   "display_name": "venv",
   "language": "python",
   "name": "python3"
  },
  "language_info": {
   "codemirror_mode": {
    "name": "ipython",
    "version": 3
   },
   "file_extension": ".py",
   "mimetype": "text/x-python",
   "name": "python",
   "nbconvert_exporter": "python",
   "pygments_lexer": "ipython3",
   "version": "3.11.6"
  }
 },
 "nbformat": 4,
 "nbformat_minor": 2
}
